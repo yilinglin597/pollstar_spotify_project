{
 "cells": [
  {
   "cell_type": "code",
   "execution_count": 2,
   "metadata": {},
   "outputs": [],
   "source": [
    "%matplotlib inline\n",
    "import matplotlib.pyplot as plt\n",
    "import numpy as np\n",
    "import pandas as pd\n",
    "import seaborn as sns\n",
    "from scipy import stats\n",
    "import re"
   ]
  },
  {
   "cell_type": "code",
   "execution_count": 7,
   "metadata": {},
   "outputs": [],
   "source": [
    "artists_genres2=pd.read_csv('~/Desktop/artists_genres2')"
   ]
  },
  {
   "cell_type": "code",
   "execution_count": 8,
   "metadata": {},
   "outputs": [
    {
     "data": {
      "text/html": [
       "<div>\n",
       "<style scoped>\n",
       "    .dataframe tbody tr th:only-of-type {\n",
       "        vertical-align: middle;\n",
       "    }\n",
       "\n",
       "    .dataframe tbody tr th {\n",
       "        vertical-align: top;\n",
       "    }\n",
       "\n",
       "    .dataframe thead th {\n",
       "        text-align: right;\n",
       "    }\n",
       "</style>\n",
       "<table border=\"1\" class=\"dataframe\">\n",
       "  <thead>\n",
       "    <tr style=\"text-align: right;\">\n",
       "      <th></th>\n",
       "      <th>main_artist</th>\n",
       "      <th>acousticness</th>\n",
       "      <th>artists</th>\n",
       "      <th>danceability</th>\n",
       "      <th>duration_ms</th>\n",
       "      <th>energy</th>\n",
       "      <th>explicit</th>\n",
       "      <th>instrumentalness</th>\n",
       "      <th>key</th>\n",
       "      <th>liveness</th>\n",
       "      <th>loudness</th>\n",
       "      <th>mode</th>\n",
       "      <th>popularity</th>\n",
       "      <th>speechiness</th>\n",
       "      <th>tempo</th>\n",
       "      <th>valence</th>\n",
       "      <th>year</th>\n",
       "      <th>duration_minutes</th>\n",
       "      <th>main_genre</th>\n",
       "      <th>release_year_interval</th>\n",
       "    </tr>\n",
       "  </thead>\n",
       "  <tbody>\n",
       "    <tr>\n",
       "      <th>0</th>\n",
       "      <td>BTS</td>\n",
       "      <td>0.0487</td>\n",
       "      <td>['BTS']</td>\n",
       "      <td>0.636</td>\n",
       "      <td>221529</td>\n",
       "      <td>0.876</td>\n",
       "      <td>0</td>\n",
       "      <td>0.000000</td>\n",
       "      <td>9</td>\n",
       "      <td>0.0728</td>\n",
       "      <td>-4.652</td>\n",
       "      <td>1</td>\n",
       "      <td>70</td>\n",
       "      <td>0.0617</td>\n",
       "      <td>149.932</td>\n",
       "      <td>0.759</td>\n",
       "      <td>2018</td>\n",
       "      <td>3.692150</td>\n",
       "      <td>K-POP</td>\n",
       "      <td>2010</td>\n",
       "    </tr>\n",
       "    <tr>\n",
       "      <th>1</th>\n",
       "      <td>BTS</td>\n",
       "      <td>0.0223</td>\n",
       "      <td>['BTS']</td>\n",
       "      <td>0.599</td>\n",
       "      <td>223123</td>\n",
       "      <td>0.774</td>\n",
       "      <td>0</td>\n",
       "      <td>0.000000</td>\n",
       "      <td>1</td>\n",
       "      <td>0.0669</td>\n",
       "      <td>-4.014</td>\n",
       "      <td>0</td>\n",
       "      <td>72</td>\n",
       "      <td>0.0541</td>\n",
       "      <td>129.819</td>\n",
       "      <td>0.696</td>\n",
       "      <td>2018</td>\n",
       "      <td>3.718717</td>\n",
       "      <td>K-POP</td>\n",
       "      <td>2010</td>\n",
       "    </tr>\n",
       "    <tr>\n",
       "      <th>2</th>\n",
       "      <td>BTS</td>\n",
       "      <td>0.3720</td>\n",
       "      <td>['BTS', 'Steve Aoki']</td>\n",
       "      <td>0.570</td>\n",
       "      <td>242293</td>\n",
       "      <td>0.422</td>\n",
       "      <td>0</td>\n",
       "      <td>0.000000</td>\n",
       "      <td>1</td>\n",
       "      <td>0.1270</td>\n",
       "      <td>-7.561</td>\n",
       "      <td>0</td>\n",
       "      <td>70</td>\n",
       "      <td>0.0422</td>\n",
       "      <td>113.007</td>\n",
       "      <td>0.169</td>\n",
       "      <td>2018</td>\n",
       "      <td>4.038217</td>\n",
       "      <td>K-POP</td>\n",
       "      <td>2010</td>\n",
       "    </tr>\n",
       "    <tr>\n",
       "      <th>3</th>\n",
       "      <td>BTS</td>\n",
       "      <td>0.1670</td>\n",
       "      <td>['BTS']</td>\n",
       "      <td>0.680</td>\n",
       "      <td>238530</td>\n",
       "      <td>0.927</td>\n",
       "      <td>0</td>\n",
       "      <td>0.000000</td>\n",
       "      <td>0</td>\n",
       "      <td>0.4370</td>\n",
       "      <td>-1.058</td>\n",
       "      <td>1</td>\n",
       "      <td>60</td>\n",
       "      <td>0.1490</td>\n",
       "      <td>93.975</td>\n",
       "      <td>0.862</td>\n",
       "      <td>2014</td>\n",
       "      <td>3.975500</td>\n",
       "      <td>K-POP</td>\n",
       "      <td>2010</td>\n",
       "    </tr>\n",
       "    <tr>\n",
       "      <th>4</th>\n",
       "      <td>BTS</td>\n",
       "      <td>0.0483</td>\n",
       "      <td>['BTS']</td>\n",
       "      <td>0.619</td>\n",
       "      <td>240021</td>\n",
       "      <td>0.889</td>\n",
       "      <td>0</td>\n",
       "      <td>0.000000</td>\n",
       "      <td>10</td>\n",
       "      <td>0.3240</td>\n",
       "      <td>-3.108</td>\n",
       "      <td>0</td>\n",
       "      <td>63</td>\n",
       "      <td>0.2190</td>\n",
       "      <td>77.058</td>\n",
       "      <td>0.622</td>\n",
       "      <td>2015</td>\n",
       "      <td>4.000350</td>\n",
       "      <td>K-POP</td>\n",
       "      <td>2010</td>\n",
       "    </tr>\n",
       "    <tr>\n",
       "      <th>...</th>\n",
       "      <td>...</td>\n",
       "      <td>...</td>\n",
       "      <td>...</td>\n",
       "      <td>...</td>\n",
       "      <td>...</td>\n",
       "      <td>...</td>\n",
       "      <td>...</td>\n",
       "      <td>...</td>\n",
       "      <td>...</td>\n",
       "      <td>...</td>\n",
       "      <td>...</td>\n",
       "      <td>...</td>\n",
       "      <td>...</td>\n",
       "      <td>...</td>\n",
       "      <td>...</td>\n",
       "      <td>...</td>\n",
       "      <td>...</td>\n",
       "      <td>...</td>\n",
       "      <td>...</td>\n",
       "      <td>...</td>\n",
       "    </tr>\n",
       "    <tr>\n",
       "      <th>28086</th>\n",
       "      <td>MICHEL'LE</td>\n",
       "      <td>0.0105</td>\n",
       "      <td>[\"Michel'le\"]</td>\n",
       "      <td>0.830</td>\n",
       "      <td>211160</td>\n",
       "      <td>0.712</td>\n",
       "      <td>0</td>\n",
       "      <td>0.240000</td>\n",
       "      <td>11</td>\n",
       "      <td>0.0490</td>\n",
       "      <td>-7.447</td>\n",
       "      <td>1</td>\n",
       "      <td>33</td>\n",
       "      <td>0.0446</td>\n",
       "      <td>103.141</td>\n",
       "      <td>0.814</td>\n",
       "      <td>1989</td>\n",
       "      <td>3.519333</td>\n",
       "      <td>R&amp;B</td>\n",
       "      <td>1980</td>\n",
       "    </tr>\n",
       "    <tr>\n",
       "      <th>28087</th>\n",
       "      <td>ELLE KING</td>\n",
       "      <td>0.0208</td>\n",
       "      <td>['Elle King']</td>\n",
       "      <td>0.528</td>\n",
       "      <td>245547</td>\n",
       "      <td>0.928</td>\n",
       "      <td>0</td>\n",
       "      <td>0.000006</td>\n",
       "      <td>1</td>\n",
       "      <td>0.3760</td>\n",
       "      <td>-3.925</td>\n",
       "      <td>1</td>\n",
       "      <td>56</td>\n",
       "      <td>0.0664</td>\n",
       "      <td>128.009</td>\n",
       "      <td>0.399</td>\n",
       "      <td>2015</td>\n",
       "      <td>4.092450</td>\n",
       "      <td>BLUES ROCK</td>\n",
       "      <td>2010</td>\n",
       "    </tr>\n",
       "    <tr>\n",
       "      <th>28088</th>\n",
       "      <td>ELLE KING</td>\n",
       "      <td>0.0183</td>\n",
       "      <td>['Elle King']</td>\n",
       "      <td>0.612</td>\n",
       "      <td>202173</td>\n",
       "      <td>0.921</td>\n",
       "      <td>0</td>\n",
       "      <td>0.000000</td>\n",
       "      <td>7</td>\n",
       "      <td>0.0576</td>\n",
       "      <td>-2.879</td>\n",
       "      <td>1</td>\n",
       "      <td>72</td>\n",
       "      <td>0.0848</td>\n",
       "      <td>139.986</td>\n",
       "      <td>0.453</td>\n",
       "      <td>2015</td>\n",
       "      <td>3.369550</td>\n",
       "      <td>BLUES ROCK</td>\n",
       "      <td>2010</td>\n",
       "    </tr>\n",
       "    <tr>\n",
       "      <th>28089</th>\n",
       "      <td>ELLE KING</td>\n",
       "      <td>0.2040</td>\n",
       "      <td>['Elle King']</td>\n",
       "      <td>0.459</td>\n",
       "      <td>160653</td>\n",
       "      <td>0.821</td>\n",
       "      <td>1</td>\n",
       "      <td>0.000000</td>\n",
       "      <td>7</td>\n",
       "      <td>0.7080</td>\n",
       "      <td>-4.901</td>\n",
       "      <td>1</td>\n",
       "      <td>57</td>\n",
       "      <td>0.0961</td>\n",
       "      <td>182.586</td>\n",
       "      <td>0.553</td>\n",
       "      <td>2012</td>\n",
       "      <td>2.677550</td>\n",
       "      <td>BLUES ROCK</td>\n",
       "      <td>2010</td>\n",
       "    </tr>\n",
       "    <tr>\n",
       "      <th>28090</th>\n",
       "      <td>MAC POWELL</td>\n",
       "      <td>0.1130</td>\n",
       "      <td>['Mac Powell', 'Cliff Young', 'Danielle Young']</td>\n",
       "      <td>0.340</td>\n",
       "      <td>308667</td>\n",
       "      <td>0.612</td>\n",
       "      <td>0</td>\n",
       "      <td>0.000020</td>\n",
       "      <td>10</td>\n",
       "      <td>0.0990</td>\n",
       "      <td>-6.710</td>\n",
       "      <td>1</td>\n",
       "      <td>36</td>\n",
       "      <td>0.0294</td>\n",
       "      <td>80.147</td>\n",
       "      <td>0.376</td>\n",
       "      <td>2000</td>\n",
       "      <td>5.144450</td>\n",
       "      <td>CHRISTIAN ROCK</td>\n",
       "      <td>2000</td>\n",
       "    </tr>\n",
       "  </tbody>\n",
       "</table>\n",
       "<p>28091 rows × 20 columns</p>\n",
       "</div>"
      ],
      "text/plain": [
       "      main_artist  acousticness  \\\n",
       "0             BTS        0.0487   \n",
       "1             BTS        0.0223   \n",
       "2             BTS        0.3720   \n",
       "3             BTS        0.1670   \n",
       "4             BTS        0.0483   \n",
       "...           ...           ...   \n",
       "28086   MICHEL'LE        0.0105   \n",
       "28087   ELLE KING        0.0208   \n",
       "28088   ELLE KING        0.0183   \n",
       "28089   ELLE KING        0.2040   \n",
       "28090  MAC POWELL        0.1130   \n",
       "\n",
       "                                               artists  danceability  \\\n",
       "0                                              ['BTS']         0.636   \n",
       "1                                              ['BTS']         0.599   \n",
       "2                                ['BTS', 'Steve Aoki']         0.570   \n",
       "3                                              ['BTS']         0.680   \n",
       "4                                              ['BTS']         0.619   \n",
       "...                                                ...           ...   \n",
       "28086                                    [\"Michel'le\"]         0.830   \n",
       "28087                                    ['Elle King']         0.528   \n",
       "28088                                    ['Elle King']         0.612   \n",
       "28089                                    ['Elle King']         0.459   \n",
       "28090  ['Mac Powell', 'Cliff Young', 'Danielle Young']         0.340   \n",
       "\n",
       "       duration_ms  energy  explicit  instrumentalness  key  liveness  \\\n",
       "0           221529   0.876         0          0.000000    9    0.0728   \n",
       "1           223123   0.774         0          0.000000    1    0.0669   \n",
       "2           242293   0.422         0          0.000000    1    0.1270   \n",
       "3           238530   0.927         0          0.000000    0    0.4370   \n",
       "4           240021   0.889         0          0.000000   10    0.3240   \n",
       "...            ...     ...       ...               ...  ...       ...   \n",
       "28086       211160   0.712         0          0.240000   11    0.0490   \n",
       "28087       245547   0.928         0          0.000006    1    0.3760   \n",
       "28088       202173   0.921         0          0.000000    7    0.0576   \n",
       "28089       160653   0.821         1          0.000000    7    0.7080   \n",
       "28090       308667   0.612         0          0.000020   10    0.0990   \n",
       "\n",
       "       loudness  mode  popularity  speechiness    tempo  valence  year  \\\n",
       "0        -4.652     1          70       0.0617  149.932    0.759  2018   \n",
       "1        -4.014     0          72       0.0541  129.819    0.696  2018   \n",
       "2        -7.561     0          70       0.0422  113.007    0.169  2018   \n",
       "3        -1.058     1          60       0.1490   93.975    0.862  2014   \n",
       "4        -3.108     0          63       0.2190   77.058    0.622  2015   \n",
       "...         ...   ...         ...          ...      ...      ...   ...   \n",
       "28086    -7.447     1          33       0.0446  103.141    0.814  1989   \n",
       "28087    -3.925     1          56       0.0664  128.009    0.399  2015   \n",
       "28088    -2.879     1          72       0.0848  139.986    0.453  2015   \n",
       "28089    -4.901     1          57       0.0961  182.586    0.553  2012   \n",
       "28090    -6.710     1          36       0.0294   80.147    0.376  2000   \n",
       "\n",
       "       duration_minutes      main_genre  release_year_interval  \n",
       "0              3.692150           K-POP                   2010  \n",
       "1              3.718717           K-POP                   2010  \n",
       "2              4.038217           K-POP                   2010  \n",
       "3              3.975500           K-POP                   2010  \n",
       "4              4.000350           K-POP                   2010  \n",
       "...                 ...             ...                    ...  \n",
       "28086          3.519333             R&B                   1980  \n",
       "28087          4.092450      BLUES ROCK                   2010  \n",
       "28088          3.369550      BLUES ROCK                   2010  \n",
       "28089          2.677550      BLUES ROCK                   2010  \n",
       "28090          5.144450  CHRISTIAN ROCK                   2000  \n",
       "\n",
       "[28091 rows x 20 columns]"
      ]
     },
     "execution_count": 8,
     "metadata": {},
     "output_type": "execute_result"
    }
   ],
   "source": [
    "artists_genres2"
   ]
  },
  {
   "cell_type": "code",
   "execution_count": 9,
   "metadata": {},
   "outputs": [],
   "source": [
    "year_genre=pd.DataFrame(artists_genres2.groupby(['main_genre','release_year_interval'])['main_genre'].count().sort_values\n",
    "                         (ascending=False).head(60).reset_index(name='count'))"
   ]
  },
  {
   "cell_type": "code",
   "execution_count": 10,
   "metadata": {},
   "outputs": [
    {
     "data": {
      "text/html": [
       "<div>\n",
       "<style scoped>\n",
       "    .dataframe tbody tr th:only-of-type {\n",
       "        vertical-align: middle;\n",
       "    }\n",
       "\n",
       "    .dataframe tbody tr th {\n",
       "        vertical-align: top;\n",
       "    }\n",
       "\n",
       "    .dataframe thead th {\n",
       "        text-align: right;\n",
       "    }\n",
       "</style>\n",
       "<table border=\"1\" class=\"dataframe\">\n",
       "  <thead>\n",
       "    <tr style=\"text-align: right;\">\n",
       "      <th></th>\n",
       "      <th>main_genre</th>\n",
       "      <th>release_year_interval</th>\n",
       "      <th>count</th>\n",
       "    </tr>\n",
       "  </thead>\n",
       "  <tbody>\n",
       "    <tr>\n",
       "      <th>0</th>\n",
       "      <td>ALBUM ROCK</td>\n",
       "      <td>1970</td>\n",
       "      <td>2283</td>\n",
       "    </tr>\n",
       "    <tr>\n",
       "      <th>1</th>\n",
       "      <td>ALBUM ROCK</td>\n",
       "      <td>1980</td>\n",
       "      <td>1605</td>\n",
       "    </tr>\n",
       "    <tr>\n",
       "      <th>2</th>\n",
       "      <td>ALTERNATIVE METAL</td>\n",
       "      <td>2000</td>\n",
       "      <td>956</td>\n",
       "    </tr>\n",
       "    <tr>\n",
       "      <th>3</th>\n",
       "      <td>DANCE POP</td>\n",
       "      <td>2010</td>\n",
       "      <td>902</td>\n",
       "    </tr>\n",
       "    <tr>\n",
       "      <th>4</th>\n",
       "      <td>ALBUM ROCK</td>\n",
       "      <td>1960</td>\n",
       "      <td>851</td>\n",
       "    </tr>\n",
       "    <tr>\n",
       "      <th>5</th>\n",
       "      <td>CONTEMPORARY COUNTRY</td>\n",
       "      <td>2010</td>\n",
       "      <td>733</td>\n",
       "    </tr>\n",
       "    <tr>\n",
       "      <th>6</th>\n",
       "      <td>ALTERNATIVE METAL</td>\n",
       "      <td>1990</td>\n",
       "      <td>658</td>\n",
       "    </tr>\n",
       "    <tr>\n",
       "      <th>7</th>\n",
       "      <td>HIP HOP</td>\n",
       "      <td>2010</td>\n",
       "      <td>496</td>\n",
       "    </tr>\n",
       "    <tr>\n",
       "      <th>8</th>\n",
       "      <td>DANCE POP</td>\n",
       "      <td>2000</td>\n",
       "      <td>462</td>\n",
       "    </tr>\n",
       "    <tr>\n",
       "      <th>9</th>\n",
       "      <td>GLAM ROCK</td>\n",
       "      <td>1970</td>\n",
       "      <td>455</td>\n",
       "    </tr>\n",
       "    <tr>\n",
       "      <th>10</th>\n",
       "      <td>BAROQUE POP</td>\n",
       "      <td>1960</td>\n",
       "      <td>429</td>\n",
       "    </tr>\n",
       "    <tr>\n",
       "      <th>11</th>\n",
       "      <td>DANCE ROCK</td>\n",
       "      <td>1980</td>\n",
       "      <td>353</td>\n",
       "    </tr>\n",
       "    <tr>\n",
       "      <th>12</th>\n",
       "      <td>CONTEMPORARY COUNTRY</td>\n",
       "      <td>2000</td>\n",
       "      <td>343</td>\n",
       "    </tr>\n",
       "    <tr>\n",
       "      <th>13</th>\n",
       "      <td>ALBUM ROCK</td>\n",
       "      <td>1990</td>\n",
       "      <td>342</td>\n",
       "    </tr>\n",
       "    <tr>\n",
       "      <th>14</th>\n",
       "      <td>ALTERNATIVE ROCK</td>\n",
       "      <td>1990</td>\n",
       "      <td>334</td>\n",
       "    </tr>\n",
       "    <tr>\n",
       "      <th>15</th>\n",
       "      <td>ALTERNATIVE METAL</td>\n",
       "      <td>2010</td>\n",
       "      <td>315</td>\n",
       "    </tr>\n",
       "    <tr>\n",
       "      <th>16</th>\n",
       "      <td>DANCE POP</td>\n",
       "      <td>1990</td>\n",
       "      <td>284</td>\n",
       "    </tr>\n",
       "    <tr>\n",
       "      <th>17</th>\n",
       "      <td>ALTERNATIVE ROCK</td>\n",
       "      <td>2000</td>\n",
       "      <td>284</td>\n",
       "    </tr>\n",
       "    <tr>\n",
       "      <th>18</th>\n",
       "      <td>ADULT STANDARDS</td>\n",
       "      <td>1970</td>\n",
       "      <td>239</td>\n",
       "    </tr>\n",
       "    <tr>\n",
       "      <th>19</th>\n",
       "      <td>CONSCIOUS HIP HOP</td>\n",
       "      <td>2010</td>\n",
       "      <td>235</td>\n",
       "    </tr>\n",
       "    <tr>\n",
       "      <th>20</th>\n",
       "      <td>CLASSIC ROCK</td>\n",
       "      <td>1970</td>\n",
       "      <td>212</td>\n",
       "    </tr>\n",
       "    <tr>\n",
       "      <th>21</th>\n",
       "      <td>MODERN ROCK</td>\n",
       "      <td>2010</td>\n",
       "      <td>211</td>\n",
       "    </tr>\n",
       "    <tr>\n",
       "      <th>22</th>\n",
       "      <td>ALBUM ROCK</td>\n",
       "      <td>2000</td>\n",
       "      <td>195</td>\n",
       "    </tr>\n",
       "    <tr>\n",
       "      <th>23</th>\n",
       "      <td>COUNTRY ROCK</td>\n",
       "      <td>1970</td>\n",
       "      <td>194</td>\n",
       "    </tr>\n",
       "    <tr>\n",
       "      <th>24</th>\n",
       "      <td>ART POP</td>\n",
       "      <td>2010</td>\n",
       "      <td>190</td>\n",
       "    </tr>\n",
       "    <tr>\n",
       "      <th>25</th>\n",
       "      <td>CLASSIC COUNTRY POP</td>\n",
       "      <td>1970</td>\n",
       "      <td>188</td>\n",
       "    </tr>\n",
       "    <tr>\n",
       "      <th>26</th>\n",
       "      <td>POP</td>\n",
       "      <td>2010</td>\n",
       "      <td>187</td>\n",
       "    </tr>\n",
       "    <tr>\n",
       "      <th>27</th>\n",
       "      <td>CANADIAN HIP HOP</td>\n",
       "      <td>2010</td>\n",
       "      <td>187</td>\n",
       "    </tr>\n",
       "    <tr>\n",
       "      <th>28</th>\n",
       "      <td>NEO MELLOW</td>\n",
       "      <td>2000</td>\n",
       "      <td>181</td>\n",
       "    </tr>\n",
       "    <tr>\n",
       "      <th>29</th>\n",
       "      <td>CONTEMPORARY COUNTRY</td>\n",
       "      <td>1990</td>\n",
       "      <td>176</td>\n",
       "    </tr>\n",
       "    <tr>\n",
       "      <th>30</th>\n",
       "      <td>IRISH ROCK</td>\n",
       "      <td>1980</td>\n",
       "      <td>169</td>\n",
       "    </tr>\n",
       "    <tr>\n",
       "      <th>31</th>\n",
       "      <td>ADULT STANDARDS</td>\n",
       "      <td>1980</td>\n",
       "      <td>160</td>\n",
       "    </tr>\n",
       "    <tr>\n",
       "      <th>32</th>\n",
       "      <td>MODERN ROCK</td>\n",
       "      <td>2000</td>\n",
       "      <td>159</td>\n",
       "    </tr>\n",
       "    <tr>\n",
       "      <th>33</th>\n",
       "      <td>ATL HIP HOP</td>\n",
       "      <td>2010</td>\n",
       "      <td>158</td>\n",
       "    </tr>\n",
       "    <tr>\n",
       "      <th>34</th>\n",
       "      <td>ALTERNATIVE ROCK</td>\n",
       "      <td>1980</td>\n",
       "      <td>157</td>\n",
       "    </tr>\n",
       "    <tr>\n",
       "      <th>35</th>\n",
       "      <td>CLASSIC ROCK</td>\n",
       "      <td>1980</td>\n",
       "      <td>156</td>\n",
       "    </tr>\n",
       "    <tr>\n",
       "      <th>36</th>\n",
       "      <td>GLAM ROCK</td>\n",
       "      <td>1980</td>\n",
       "      <td>155</td>\n",
       "    </tr>\n",
       "    <tr>\n",
       "      <th>37</th>\n",
       "      <td>LATIN</td>\n",
       "      <td>2010</td>\n",
       "      <td>144</td>\n",
       "    </tr>\n",
       "    <tr>\n",
       "      <th>38</th>\n",
       "      <td>INDIE POP</td>\n",
       "      <td>2010</td>\n",
       "      <td>136</td>\n",
       "    </tr>\n",
       "    <tr>\n",
       "      <th>39</th>\n",
       "      <td>ADULT STANDARDS</td>\n",
       "      <td>1960</td>\n",
       "      <td>134</td>\n",
       "    </tr>\n",
       "    <tr>\n",
       "      <th>40</th>\n",
       "      <td>EMO</td>\n",
       "      <td>2000</td>\n",
       "      <td>129</td>\n",
       "    </tr>\n",
       "    <tr>\n",
       "      <th>41</th>\n",
       "      <td>HARD ROCK</td>\n",
       "      <td>1980</td>\n",
       "      <td>128</td>\n",
       "    </tr>\n",
       "    <tr>\n",
       "      <th>42</th>\n",
       "      <td>ADULT STANDARDS</td>\n",
       "      <td>2000</td>\n",
       "      <td>126</td>\n",
       "    </tr>\n",
       "    <tr>\n",
       "      <th>43</th>\n",
       "      <td>BANDA</td>\n",
       "      <td>1990</td>\n",
       "      <td>124</td>\n",
       "    </tr>\n",
       "    <tr>\n",
       "      <th>44</th>\n",
       "      <td>ART ROCK</td>\n",
       "      <td>1980</td>\n",
       "      <td>124</td>\n",
       "    </tr>\n",
       "    <tr>\n",
       "      <th>45</th>\n",
       "      <td>CCM</td>\n",
       "      <td>2010</td>\n",
       "      <td>120</td>\n",
       "    </tr>\n",
       "    <tr>\n",
       "      <th>46</th>\n",
       "      <td>EAST COAST HIP HOP</td>\n",
       "      <td>2000</td>\n",
       "      <td>113</td>\n",
       "    </tr>\n",
       "    <tr>\n",
       "      <th>47</th>\n",
       "      <td>K-POP</td>\n",
       "      <td>2010</td>\n",
       "      <td>112</td>\n",
       "    </tr>\n",
       "    <tr>\n",
       "      <th>48</th>\n",
       "      <td>CHICAGO RAP</td>\n",
       "      <td>2010</td>\n",
       "      <td>110</td>\n",
       "    </tr>\n",
       "    <tr>\n",
       "      <th>49</th>\n",
       "      <td>CANADIAN CONTEMPORARY R&amp;B</td>\n",
       "      <td>2010</td>\n",
       "      <td>106</td>\n",
       "    </tr>\n",
       "    <tr>\n",
       "      <th>50</th>\n",
       "      <td>FOLK-POP</td>\n",
       "      <td>2010</td>\n",
       "      <td>106</td>\n",
       "    </tr>\n",
       "    <tr>\n",
       "      <th>51</th>\n",
       "      <td>BLUES ROCK</td>\n",
       "      <td>1970</td>\n",
       "      <td>104</td>\n",
       "    </tr>\n",
       "    <tr>\n",
       "      <th>52</th>\n",
       "      <td>PERMANENT WAVE</td>\n",
       "      <td>2000</td>\n",
       "      <td>103</td>\n",
       "    </tr>\n",
       "    <tr>\n",
       "      <th>53</th>\n",
       "      <td>COUNTRY ROCK</td>\n",
       "      <td>1990</td>\n",
       "      <td>103</td>\n",
       "    </tr>\n",
       "    <tr>\n",
       "      <th>54</th>\n",
       "      <td>MELLOW GOLD</td>\n",
       "      <td>1980</td>\n",
       "      <td>102</td>\n",
       "    </tr>\n",
       "    <tr>\n",
       "      <th>55</th>\n",
       "      <td>HIP HOP</td>\n",
       "      <td>2000</td>\n",
       "      <td>102</td>\n",
       "    </tr>\n",
       "    <tr>\n",
       "      <th>56</th>\n",
       "      <td>PERMANENT WAVE</td>\n",
       "      <td>1990</td>\n",
       "      <td>102</td>\n",
       "    </tr>\n",
       "    <tr>\n",
       "      <th>57</th>\n",
       "      <td>ACOUSTIC POP</td>\n",
       "      <td>2000</td>\n",
       "      <td>100</td>\n",
       "    </tr>\n",
       "    <tr>\n",
       "      <th>58</th>\n",
       "      <td>CCM</td>\n",
       "      <td>2000</td>\n",
       "      <td>99</td>\n",
       "    </tr>\n",
       "    <tr>\n",
       "      <th>59</th>\n",
       "      <td>EAST COAST HIP HOP</td>\n",
       "      <td>1990</td>\n",
       "      <td>98</td>\n",
       "    </tr>\n",
       "  </tbody>\n",
       "</table>\n",
       "</div>"
      ],
      "text/plain": [
       "                   main_genre  release_year_interval  count\n",
       "0                  ALBUM ROCK                   1970   2283\n",
       "1                  ALBUM ROCK                   1980   1605\n",
       "2           ALTERNATIVE METAL                   2000    956\n",
       "3                   DANCE POP                   2010    902\n",
       "4                  ALBUM ROCK                   1960    851\n",
       "5        CONTEMPORARY COUNTRY                   2010    733\n",
       "6           ALTERNATIVE METAL                   1990    658\n",
       "7                     HIP HOP                   2010    496\n",
       "8                   DANCE POP                   2000    462\n",
       "9                   GLAM ROCK                   1970    455\n",
       "10                BAROQUE POP                   1960    429\n",
       "11                 DANCE ROCK                   1980    353\n",
       "12       CONTEMPORARY COUNTRY                   2000    343\n",
       "13                 ALBUM ROCK                   1990    342\n",
       "14           ALTERNATIVE ROCK                   1990    334\n",
       "15          ALTERNATIVE METAL                   2010    315\n",
       "16                  DANCE POP                   1990    284\n",
       "17           ALTERNATIVE ROCK                   2000    284\n",
       "18            ADULT STANDARDS                   1970    239\n",
       "19          CONSCIOUS HIP HOP                   2010    235\n",
       "20               CLASSIC ROCK                   1970    212\n",
       "21                MODERN ROCK                   2010    211\n",
       "22                 ALBUM ROCK                   2000    195\n",
       "23               COUNTRY ROCK                   1970    194\n",
       "24                    ART POP                   2010    190\n",
       "25        CLASSIC COUNTRY POP                   1970    188\n",
       "26                        POP                   2010    187\n",
       "27           CANADIAN HIP HOP                   2010    187\n",
       "28                 NEO MELLOW                   2000    181\n",
       "29       CONTEMPORARY COUNTRY                   1990    176\n",
       "30                 IRISH ROCK                   1980    169\n",
       "31            ADULT STANDARDS                   1980    160\n",
       "32                MODERN ROCK                   2000    159\n",
       "33                ATL HIP HOP                   2010    158\n",
       "34           ALTERNATIVE ROCK                   1980    157\n",
       "35               CLASSIC ROCK                   1980    156\n",
       "36                  GLAM ROCK                   1980    155\n",
       "37                      LATIN                   2010    144\n",
       "38                  INDIE POP                   2010    136\n",
       "39            ADULT STANDARDS                   1960    134\n",
       "40                        EMO                   2000    129\n",
       "41                  HARD ROCK                   1980    128\n",
       "42            ADULT STANDARDS                   2000    126\n",
       "43                      BANDA                   1990    124\n",
       "44                   ART ROCK                   1980    124\n",
       "45                        CCM                   2010    120\n",
       "46         EAST COAST HIP HOP                   2000    113\n",
       "47                      K-POP                   2010    112\n",
       "48                CHICAGO RAP                   2010    110\n",
       "49  CANADIAN CONTEMPORARY R&B                   2010    106\n",
       "50                   FOLK-POP                   2010    106\n",
       "51                 BLUES ROCK                   1970    104\n",
       "52             PERMANENT WAVE                   2000    103\n",
       "53               COUNTRY ROCK                   1990    103\n",
       "54                MELLOW GOLD                   1980    102\n",
       "55                    HIP HOP                   2000    102\n",
       "56             PERMANENT WAVE                   1990    102\n",
       "57               ACOUSTIC POP                   2000    100\n",
       "58                        CCM                   2000     99\n",
       "59         EAST COAST HIP HOP                   1990     98"
      ]
     },
     "execution_count": 10,
     "metadata": {},
     "output_type": "execute_result"
    }
   ],
   "source": [
    "year_genre"
   ]
  },
  {
   "cell_type": "code",
   "execution_count": 12,
   "metadata": {},
   "outputs": [],
   "source": [
    "year2=year_genre.sort_values(by='release_year_interval')"
   ]
  },
  {
   "cell_type": "code",
   "execution_count": 14,
   "metadata": {},
   "outputs": [
    {
     "data": {
      "application/vnd.plotly.v1+json": {
       "config": {
        "plotlyServerURL": "https://plot.ly"
       },
       "data": [
        {
         "alignmentgroup": "True",
         "hovertemplate": "main_genre=%{x}<br>release_year_interval=1960<br>count=%{y}<extra></extra>",
         "ids": [
          "ADULT STANDARDS"
         ],
         "legendgroup": "ADULT STANDARDS",
         "marker": {
          "color": "#636efa"
         },
         "name": "ADULT STANDARDS",
         "offsetgroup": "ADULT STANDARDS",
         "orientation": "v",
         "showlegend": true,
         "textposition": "auto",
         "type": "bar",
         "x": [
          "ADULT STANDARDS"
         ],
         "xaxis": "x",
         "y": [
          134
         ],
         "yaxis": "y"
        },
        {
         "alignmentgroup": "True",
         "hovertemplate": "main_genre=%{x}<br>release_year_interval=1960<br>count=%{y}<extra></extra>",
         "ids": [
          "ALBUM ROCK"
         ],
         "legendgroup": "ALBUM ROCK",
         "marker": {
          "color": "#EF553B"
         },
         "name": "ALBUM ROCK",
         "offsetgroup": "ALBUM ROCK",
         "orientation": "v",
         "showlegend": true,
         "textposition": "auto",
         "type": "bar",
         "x": [
          "ALBUM ROCK"
         ],
         "xaxis": "x",
         "y": [
          851
         ],
         "yaxis": "y"
        },
        {
         "alignmentgroup": "True",
         "hovertemplate": "main_genre=%{x}<br>release_year_interval=1960<br>count=%{y}<extra></extra>",
         "ids": [
          "BAROQUE POP"
         ],
         "legendgroup": "BAROQUE POP",
         "marker": {
          "color": "#00cc96"
         },
         "name": "BAROQUE POP",
         "offsetgroup": "BAROQUE POP",
         "orientation": "v",
         "showlegend": true,
         "textposition": "auto",
         "type": "bar",
         "x": [
          "BAROQUE POP"
         ],
         "xaxis": "x",
         "y": [
          429
         ],
         "yaxis": "y"
        }
       ],
       "frames": [
        {
         "data": [
          {
           "alignmentgroup": "True",
           "hovertemplate": "main_genre=%{x}<br>release_year_interval=1960<br>count=%{y}<extra></extra>",
           "ids": [
            "ADULT STANDARDS"
           ],
           "legendgroup": "ADULT STANDARDS",
           "marker": {
            "color": "#636efa"
           },
           "name": "ADULT STANDARDS",
           "offsetgroup": "ADULT STANDARDS",
           "orientation": "v",
           "showlegend": true,
           "textposition": "auto",
           "type": "bar",
           "x": [
            "ADULT STANDARDS"
           ],
           "xaxis": "x",
           "y": [
            134
           ],
           "yaxis": "y"
          },
          {
           "alignmentgroup": "True",
           "hovertemplate": "main_genre=%{x}<br>release_year_interval=1960<br>count=%{y}<extra></extra>",
           "ids": [
            "ALBUM ROCK"
           ],
           "legendgroup": "ALBUM ROCK",
           "marker": {
            "color": "#EF553B"
           },
           "name": "ALBUM ROCK",
           "offsetgroup": "ALBUM ROCK",
           "orientation": "v",
           "showlegend": true,
           "textposition": "auto",
           "type": "bar",
           "x": [
            "ALBUM ROCK"
           ],
           "xaxis": "x",
           "y": [
            851
           ],
           "yaxis": "y"
          },
          {
           "alignmentgroup": "True",
           "hovertemplate": "main_genre=%{x}<br>release_year_interval=1960<br>count=%{y}<extra></extra>",
           "ids": [
            "BAROQUE POP"
           ],
           "legendgroup": "BAROQUE POP",
           "marker": {
            "color": "#00cc96"
           },
           "name": "BAROQUE POP",
           "offsetgroup": "BAROQUE POP",
           "orientation": "v",
           "showlegend": true,
           "textposition": "auto",
           "type": "bar",
           "x": [
            "BAROQUE POP"
           ],
           "xaxis": "x",
           "y": [
            429
           ],
           "yaxis": "y"
          }
         ],
         "name": "1960"
        },
        {
         "data": [
          {
           "alignmentgroup": "True",
           "hovertemplate": "main_genre=%{x}<br>release_year_interval=1970<br>count=%{y}<extra></extra>",
           "ids": [
            "ADULT STANDARDS"
           ],
           "legendgroup": "ADULT STANDARDS",
           "marker": {
            "color": "#636efa"
           },
           "name": "ADULT STANDARDS",
           "offsetgroup": "ADULT STANDARDS",
           "orientation": "v",
           "showlegend": true,
           "textposition": "auto",
           "type": "bar",
           "x": [
            "ADULT STANDARDS"
           ],
           "xaxis": "x",
           "y": [
            239
           ],
           "yaxis": "y"
          },
          {
           "alignmentgroup": "True",
           "hovertemplate": "main_genre=%{x}<br>release_year_interval=1970<br>count=%{y}<extra></extra>",
           "ids": [
            "ALBUM ROCK"
           ],
           "legendgroup": "ALBUM ROCK",
           "marker": {
            "color": "#EF553B"
           },
           "name": "ALBUM ROCK",
           "offsetgroup": "ALBUM ROCK",
           "orientation": "v",
           "showlegend": true,
           "textposition": "auto",
           "type": "bar",
           "x": [
            "ALBUM ROCK"
           ],
           "xaxis": "x",
           "y": [
            2283
           ],
           "yaxis": "y"
          },
          {
           "alignmentgroup": "True",
           "hovertemplate": "main_genre=%{x}<br>release_year_interval=1970<br>count=%{y}<extra></extra>",
           "ids": [
            "CLASSIC ROCK"
           ],
           "legendgroup": "CLASSIC ROCK",
           "marker": {
            "color": "#ab63fa"
           },
           "name": "CLASSIC ROCK",
           "offsetgroup": "CLASSIC ROCK",
           "orientation": "v",
           "showlegend": true,
           "textposition": "auto",
           "type": "bar",
           "x": [
            "CLASSIC ROCK"
           ],
           "xaxis": "x",
           "y": [
            212
           ],
           "yaxis": "y"
          },
          {
           "alignmentgroup": "True",
           "hovertemplate": "main_genre=%{x}<br>release_year_interval=1970<br>count=%{y}<extra></extra>",
           "ids": [
            "CLASSIC COUNTRY POP"
           ],
           "legendgroup": "CLASSIC COUNTRY POP",
           "marker": {
            "color": "#FFA15A"
           },
           "name": "CLASSIC COUNTRY POP",
           "offsetgroup": "CLASSIC COUNTRY POP",
           "orientation": "v",
           "showlegend": true,
           "textposition": "auto",
           "type": "bar",
           "x": [
            "CLASSIC COUNTRY POP"
           ],
           "xaxis": "x",
           "y": [
            188
           ],
           "yaxis": "y"
          },
          {
           "alignmentgroup": "True",
           "hovertemplate": "main_genre=%{x}<br>release_year_interval=1970<br>count=%{y}<extra></extra>",
           "ids": [
            "GLAM ROCK"
           ],
           "legendgroup": "GLAM ROCK",
           "marker": {
            "color": "#19d3f3"
           },
           "name": "GLAM ROCK",
           "offsetgroup": "GLAM ROCK",
           "orientation": "v",
           "showlegend": true,
           "textposition": "auto",
           "type": "bar",
           "x": [
            "GLAM ROCK"
           ],
           "xaxis": "x",
           "y": [
            455
           ],
           "yaxis": "y"
          },
          {
           "alignmentgroup": "True",
           "hovertemplate": "main_genre=%{x}<br>release_year_interval=1970<br>count=%{y}<extra></extra>",
           "ids": [
            "COUNTRY ROCK"
           ],
           "legendgroup": "COUNTRY ROCK",
           "marker": {
            "color": "#FF6692"
           },
           "name": "COUNTRY ROCK",
           "offsetgroup": "COUNTRY ROCK",
           "orientation": "v",
           "showlegend": true,
           "textposition": "auto",
           "type": "bar",
           "x": [
            "COUNTRY ROCK"
           ],
           "xaxis": "x",
           "y": [
            194
           ],
           "yaxis": "y"
          },
          {
           "alignmentgroup": "True",
           "hovertemplate": "main_genre=%{x}<br>release_year_interval=1970<br>count=%{y}<extra></extra>",
           "ids": [
            "BLUES ROCK"
           ],
           "legendgroup": "BLUES ROCK",
           "marker": {
            "color": "#B6E880"
           },
           "name": "BLUES ROCK",
           "offsetgroup": "BLUES ROCK",
           "orientation": "v",
           "showlegend": true,
           "textposition": "auto",
           "type": "bar",
           "x": [
            "BLUES ROCK"
           ],
           "xaxis": "x",
           "y": [
            104
           ],
           "yaxis": "y"
          }
         ],
         "name": "1970"
        },
        {
         "data": [
          {
           "alignmentgroup": "True",
           "hovertemplate": "main_genre=%{x}<br>release_year_interval=1980<br>count=%{y}<extra></extra>",
           "ids": [
            "ADULT STANDARDS"
           ],
           "legendgroup": "ADULT STANDARDS",
           "marker": {
            "color": "#636efa"
           },
           "name": "ADULT STANDARDS",
           "offsetgroup": "ADULT STANDARDS",
           "orientation": "v",
           "showlegend": true,
           "textposition": "auto",
           "type": "bar",
           "x": [
            "ADULT STANDARDS"
           ],
           "xaxis": "x",
           "y": [
            160
           ],
           "yaxis": "y"
          },
          {
           "alignmentgroup": "True",
           "hovertemplate": "main_genre=%{x}<br>release_year_interval=1980<br>count=%{y}<extra></extra>",
           "ids": [
            "ALBUM ROCK"
           ],
           "legendgroup": "ALBUM ROCK",
           "marker": {
            "color": "#EF553B"
           },
           "name": "ALBUM ROCK",
           "offsetgroup": "ALBUM ROCK",
           "orientation": "v",
           "showlegend": true,
           "textposition": "auto",
           "type": "bar",
           "x": [
            "ALBUM ROCK"
           ],
           "xaxis": "x",
           "y": [
            1605
           ],
           "yaxis": "y"
          },
          {
           "alignmentgroup": "True",
           "hovertemplate": "main_genre=%{x}<br>release_year_interval=1980<br>count=%{y}<extra></extra>",
           "ids": [
            "CLASSIC ROCK"
           ],
           "legendgroup": "CLASSIC ROCK",
           "marker": {
            "color": "#ab63fa"
           },
           "name": "CLASSIC ROCK",
           "offsetgroup": "CLASSIC ROCK",
           "orientation": "v",
           "showlegend": true,
           "textposition": "auto",
           "type": "bar",
           "x": [
            "CLASSIC ROCK"
           ],
           "xaxis": "x",
           "y": [
            156
           ],
           "yaxis": "y"
          },
          {
           "alignmentgroup": "True",
           "hovertemplate": "main_genre=%{x}<br>release_year_interval=1980<br>count=%{y}<extra></extra>",
           "ids": [
            "GLAM ROCK"
           ],
           "legendgroup": "GLAM ROCK",
           "marker": {
            "color": "#19d3f3"
           },
           "name": "GLAM ROCK",
           "offsetgroup": "GLAM ROCK",
           "orientation": "v",
           "showlegend": true,
           "textposition": "auto",
           "type": "bar",
           "x": [
            "GLAM ROCK"
           ],
           "xaxis": "x",
           "y": [
            155
           ],
           "yaxis": "y"
          },
          {
           "alignmentgroup": "True",
           "hovertemplate": "main_genre=%{x}<br>release_year_interval=1980<br>count=%{y}<extra></extra>",
           "ids": [
            "ART ROCK"
           ],
           "legendgroup": "ART ROCK",
           "marker": {
            "color": "#FF97FF"
           },
           "name": "ART ROCK",
           "offsetgroup": "ART ROCK",
           "orientation": "v",
           "showlegend": true,
           "textposition": "auto",
           "type": "bar",
           "x": [
            "ART ROCK"
           ],
           "xaxis": "x",
           "y": [
            124
           ],
           "yaxis": "y"
          },
          {
           "alignmentgroup": "True",
           "hovertemplate": "main_genre=%{x}<br>release_year_interval=1980<br>count=%{y}<extra></extra>",
           "ids": [
            "HARD ROCK"
           ],
           "legendgroup": "HARD ROCK",
           "marker": {
            "color": "#FECB52"
           },
           "name": "HARD ROCK",
           "offsetgroup": "HARD ROCK",
           "orientation": "v",
           "showlegend": true,
           "textposition": "auto",
           "type": "bar",
           "x": [
            "HARD ROCK"
           ],
           "xaxis": "x",
           "y": [
            128
           ],
           "yaxis": "y"
          },
          {
           "alignmentgroup": "True",
           "hovertemplate": "main_genre=%{x}<br>release_year_interval=1980<br>count=%{y}<extra></extra>",
           "ids": [
            "MELLOW GOLD"
           ],
           "legendgroup": "MELLOW GOLD",
           "marker": {
            "color": "#636efa"
           },
           "name": "MELLOW GOLD",
           "offsetgroup": "MELLOW GOLD",
           "orientation": "v",
           "showlegend": true,
           "textposition": "auto",
           "type": "bar",
           "x": [
            "MELLOW GOLD"
           ],
           "xaxis": "x",
           "y": [
            102
           ],
           "yaxis": "y"
          },
          {
           "alignmentgroup": "True",
           "hovertemplate": "main_genre=%{x}<br>release_year_interval=1980<br>count=%{y}<extra></extra>",
           "ids": [
            "ALTERNATIVE ROCK"
           ],
           "legendgroup": "ALTERNATIVE ROCK",
           "marker": {
            "color": "#EF553B"
           },
           "name": "ALTERNATIVE ROCK",
           "offsetgroup": "ALTERNATIVE ROCK",
           "orientation": "v",
           "showlegend": true,
           "textposition": "auto",
           "type": "bar",
           "x": [
            "ALTERNATIVE ROCK"
           ],
           "xaxis": "x",
           "y": [
            157
           ],
           "yaxis": "y"
          },
          {
           "alignmentgroup": "True",
           "hovertemplate": "main_genre=%{x}<br>release_year_interval=1980<br>count=%{y}<extra></extra>",
           "ids": [
            "IRISH ROCK"
           ],
           "legendgroup": "IRISH ROCK",
           "marker": {
            "color": "#00cc96"
           },
           "name": "IRISH ROCK",
           "offsetgroup": "IRISH ROCK",
           "orientation": "v",
           "showlegend": true,
           "textposition": "auto",
           "type": "bar",
           "x": [
            "IRISH ROCK"
           ],
           "xaxis": "x",
           "y": [
            169
           ],
           "yaxis": "y"
          },
          {
           "alignmentgroup": "True",
           "hovertemplate": "main_genre=%{x}<br>release_year_interval=1980<br>count=%{y}<extra></extra>",
           "ids": [
            "DANCE ROCK"
           ],
           "legendgroup": "DANCE ROCK",
           "marker": {
            "color": "#ab63fa"
           },
           "name": "DANCE ROCK",
           "offsetgroup": "DANCE ROCK",
           "orientation": "v",
           "showlegend": true,
           "textposition": "auto",
           "type": "bar",
           "x": [
            "DANCE ROCK"
           ],
           "xaxis": "x",
           "y": [
            353
           ],
           "yaxis": "y"
          }
         ],
         "name": "1980"
        },
        {
         "data": [
          {
           "alignmentgroup": "True",
           "hovertemplate": "main_genre=%{x}<br>release_year_interval=1990<br>count=%{y}<extra></extra>",
           "ids": [
            "ALBUM ROCK"
           ],
           "legendgroup": "ALBUM ROCK",
           "marker": {
            "color": "#EF553B"
           },
           "name": "ALBUM ROCK",
           "offsetgroup": "ALBUM ROCK",
           "orientation": "v",
           "showlegend": true,
           "textposition": "auto",
           "type": "bar",
           "x": [
            "ALBUM ROCK"
           ],
           "xaxis": "x",
           "y": [
            342
           ],
           "yaxis": "y"
          },
          {
           "alignmentgroup": "True",
           "hovertemplate": "main_genre=%{x}<br>release_year_interval=1990<br>count=%{y}<extra></extra>",
           "ids": [
            "COUNTRY ROCK"
           ],
           "legendgroup": "COUNTRY ROCK",
           "marker": {
            "color": "#FF6692"
           },
           "name": "COUNTRY ROCK",
           "offsetgroup": "COUNTRY ROCK",
           "orientation": "v",
           "showlegend": true,
           "textposition": "auto",
           "type": "bar",
           "x": [
            "COUNTRY ROCK"
           ],
           "xaxis": "x",
           "y": [
            103
           ],
           "yaxis": "y"
          },
          {
           "alignmentgroup": "True",
           "hovertemplate": "main_genre=%{x}<br>release_year_interval=1990<br>count=%{y}<extra></extra>",
           "ids": [
            "ALTERNATIVE ROCK"
           ],
           "legendgroup": "ALTERNATIVE ROCK",
           "marker": {
            "color": "#EF553B"
           },
           "name": "ALTERNATIVE ROCK",
           "offsetgroup": "ALTERNATIVE ROCK",
           "orientation": "v",
           "showlegend": true,
           "textposition": "auto",
           "type": "bar",
           "x": [
            "ALTERNATIVE ROCK"
           ],
           "xaxis": "x",
           "y": [
            334
           ],
           "yaxis": "y"
          },
          {
           "alignmentgroup": "True",
           "hovertemplate": "main_genre=%{x}<br>release_year_interval=1990<br>count=%{y}<extra></extra>",
           "ids": [
            "PERMANENT WAVE"
           ],
           "legendgroup": "PERMANENT WAVE",
           "marker": {
            "color": "#FFA15A"
           },
           "name": "PERMANENT WAVE",
           "offsetgroup": "PERMANENT WAVE",
           "orientation": "v",
           "showlegend": true,
           "textposition": "auto",
           "type": "bar",
           "x": [
            "PERMANENT WAVE"
           ],
           "xaxis": "x",
           "y": [
            102
           ],
           "yaxis": "y"
          },
          {
           "alignmentgroup": "True",
           "hovertemplate": "main_genre=%{x}<br>release_year_interval=1990<br>count=%{y}<extra></extra>",
           "ids": [
            "BANDA"
           ],
           "legendgroup": "BANDA",
           "marker": {
            "color": "#19d3f3"
           },
           "name": "BANDA",
           "offsetgroup": "BANDA",
           "orientation": "v",
           "showlegend": true,
           "textposition": "auto",
           "type": "bar",
           "x": [
            "BANDA"
           ],
           "xaxis": "x",
           "y": [
            124
           ],
           "yaxis": "y"
          },
          {
           "alignmentgroup": "True",
           "hovertemplate": "main_genre=%{x}<br>release_year_interval=1990<br>count=%{y}<extra></extra>",
           "ids": [
            "CONTEMPORARY COUNTRY"
           ],
           "legendgroup": "CONTEMPORARY COUNTRY",
           "marker": {
            "color": "#FF6692"
           },
           "name": "CONTEMPORARY COUNTRY",
           "offsetgroup": "CONTEMPORARY COUNTRY",
           "orientation": "v",
           "showlegend": true,
           "textposition": "auto",
           "type": "bar",
           "x": [
            "CONTEMPORARY COUNTRY"
           ],
           "xaxis": "x",
           "y": [
            176
           ],
           "yaxis": "y"
          },
          {
           "alignmentgroup": "True",
           "hovertemplate": "main_genre=%{x}<br>release_year_interval=1990<br>count=%{y}<extra></extra>",
           "ids": [
            "EAST COAST HIP HOP"
           ],
           "legendgroup": "EAST COAST HIP HOP",
           "marker": {
            "color": "#B6E880"
           },
           "name": "EAST COAST HIP HOP",
           "offsetgroup": "EAST COAST HIP HOP",
           "orientation": "v",
           "showlegend": true,
           "textposition": "auto",
           "type": "bar",
           "x": [
            "EAST COAST HIP HOP"
           ],
           "xaxis": "x",
           "y": [
            98
           ],
           "yaxis": "y"
          },
          {
           "alignmentgroup": "True",
           "hovertemplate": "main_genre=%{x}<br>release_year_interval=1990<br>count=%{y}<extra></extra>",
           "ids": [
            "ALTERNATIVE METAL"
           ],
           "legendgroup": "ALTERNATIVE METAL",
           "marker": {
            "color": "#FF97FF"
           },
           "name": "ALTERNATIVE METAL",
           "offsetgroup": "ALTERNATIVE METAL",
           "orientation": "v",
           "showlegend": true,
           "textposition": "auto",
           "type": "bar",
           "x": [
            "ALTERNATIVE METAL"
           ],
           "xaxis": "x",
           "y": [
            658
           ],
           "yaxis": "y"
          },
          {
           "alignmentgroup": "True",
           "hovertemplate": "main_genre=%{x}<br>release_year_interval=1990<br>count=%{y}<extra></extra>",
           "ids": [
            "DANCE POP"
           ],
           "legendgroup": "DANCE POP",
           "marker": {
            "color": "#FECB52"
           },
           "name": "DANCE POP",
           "offsetgroup": "DANCE POP",
           "orientation": "v",
           "showlegend": true,
           "textposition": "auto",
           "type": "bar",
           "x": [
            "DANCE POP"
           ],
           "xaxis": "x",
           "y": [
            284
           ],
           "yaxis": "y"
          }
         ],
         "name": "1990"
        },
        {
         "data": [
          {
           "alignmentgroup": "True",
           "hovertemplate": "main_genre=%{x}<br>release_year_interval=2000<br>count=%{y}<extra></extra>",
           "ids": [
            "ADULT STANDARDS"
           ],
           "legendgroup": "ADULT STANDARDS",
           "marker": {
            "color": "#636efa"
           },
           "name": "ADULT STANDARDS",
           "offsetgroup": "ADULT STANDARDS",
           "orientation": "v",
           "showlegend": true,
           "textposition": "auto",
           "type": "bar",
           "x": [
            "ADULT STANDARDS"
           ],
           "xaxis": "x",
           "y": [
            126
           ],
           "yaxis": "y"
          },
          {
           "alignmentgroup": "True",
           "hovertemplate": "main_genre=%{x}<br>release_year_interval=2000<br>count=%{y}<extra></extra>",
           "ids": [
            "ALBUM ROCK"
           ],
           "legendgroup": "ALBUM ROCK",
           "marker": {
            "color": "#EF553B"
           },
           "name": "ALBUM ROCK",
           "offsetgroup": "ALBUM ROCK",
           "orientation": "v",
           "showlegend": true,
           "textposition": "auto",
           "type": "bar",
           "x": [
            "ALBUM ROCK"
           ],
           "xaxis": "x",
           "y": [
            195
           ],
           "yaxis": "y"
          },
          {
           "alignmentgroup": "True",
           "hovertemplate": "main_genre=%{x}<br>release_year_interval=2000<br>count=%{y}<extra></extra>",
           "ids": [
            "ALTERNATIVE ROCK"
           ],
           "legendgroup": "ALTERNATIVE ROCK",
           "marker": {
            "color": "#EF553B"
           },
           "name": "ALTERNATIVE ROCK",
           "offsetgroup": "ALTERNATIVE ROCK",
           "orientation": "v",
           "showlegend": true,
           "textposition": "auto",
           "type": "bar",
           "x": [
            "ALTERNATIVE ROCK"
           ],
           "xaxis": "x",
           "y": [
            284
           ],
           "yaxis": "y"
          },
          {
           "alignmentgroup": "True",
           "hovertemplate": "main_genre=%{x}<br>release_year_interval=2000<br>count=%{y}<extra></extra>",
           "ids": [
            "PERMANENT WAVE"
           ],
           "legendgroup": "PERMANENT WAVE",
           "marker": {
            "color": "#FFA15A"
           },
           "name": "PERMANENT WAVE",
           "offsetgroup": "PERMANENT WAVE",
           "orientation": "v",
           "showlegend": true,
           "textposition": "auto",
           "type": "bar",
           "x": [
            "PERMANENT WAVE"
           ],
           "xaxis": "x",
           "y": [
            103
           ],
           "yaxis": "y"
          },
          {
           "alignmentgroup": "True",
           "hovertemplate": "main_genre=%{x}<br>release_year_interval=2000<br>count=%{y}<extra></extra>",
           "ids": [
            "CONTEMPORARY COUNTRY"
           ],
           "legendgroup": "CONTEMPORARY COUNTRY",
           "marker": {
            "color": "#FF6692"
           },
           "name": "CONTEMPORARY COUNTRY",
           "offsetgroup": "CONTEMPORARY COUNTRY",
           "orientation": "v",
           "showlegend": true,
           "textposition": "auto",
           "type": "bar",
           "x": [
            "CONTEMPORARY COUNTRY"
           ],
           "xaxis": "x",
           "y": [
            343
           ],
           "yaxis": "y"
          },
          {
           "alignmentgroup": "True",
           "hovertemplate": "main_genre=%{x}<br>release_year_interval=2000<br>count=%{y}<extra></extra>",
           "ids": [
            "EAST COAST HIP HOP"
           ],
           "legendgroup": "EAST COAST HIP HOP",
           "marker": {
            "color": "#B6E880"
           },
           "name": "EAST COAST HIP HOP",
           "offsetgroup": "EAST COAST HIP HOP",
           "orientation": "v",
           "showlegend": true,
           "textposition": "auto",
           "type": "bar",
           "x": [
            "EAST COAST HIP HOP"
           ],
           "xaxis": "x",
           "y": [
            113
           ],
           "yaxis": "y"
          },
          {
           "alignmentgroup": "True",
           "hovertemplate": "main_genre=%{x}<br>release_year_interval=2000<br>count=%{y}<extra></extra>",
           "ids": [
            "ALTERNATIVE METAL"
           ],
           "legendgroup": "ALTERNATIVE METAL",
           "marker": {
            "color": "#FF97FF"
           },
           "name": "ALTERNATIVE METAL",
           "offsetgroup": "ALTERNATIVE METAL",
           "orientation": "v",
           "showlegend": true,
           "textposition": "auto",
           "type": "bar",
           "x": [
            "ALTERNATIVE METAL"
           ],
           "xaxis": "x",
           "y": [
            956
           ],
           "yaxis": "y"
          },
          {
           "alignmentgroup": "True",
           "hovertemplate": "main_genre=%{x}<br>release_year_interval=2000<br>count=%{y}<extra></extra>",
           "ids": [
            "DANCE POP"
           ],
           "legendgroup": "DANCE POP",
           "marker": {
            "color": "#FECB52"
           },
           "name": "DANCE POP",
           "offsetgroup": "DANCE POP",
           "orientation": "v",
           "showlegend": true,
           "textposition": "auto",
           "type": "bar",
           "x": [
            "DANCE POP"
           ],
           "xaxis": "x",
           "y": [
            462
           ],
           "yaxis": "y"
          },
          {
           "alignmentgroup": "True",
           "hovertemplate": "main_genre=%{x}<br>release_year_interval=2000<br>count=%{y}<extra></extra>",
           "ids": [
            "ACOUSTIC POP"
           ],
           "legendgroup": "ACOUSTIC POP",
           "marker": {
            "color": "#636efa"
           },
           "name": "ACOUSTIC POP",
           "offsetgroup": "ACOUSTIC POP",
           "orientation": "v",
           "showlegend": true,
           "textposition": "auto",
           "type": "bar",
           "x": [
            "ACOUSTIC POP"
           ],
           "xaxis": "x",
           "y": [
            100
           ],
           "yaxis": "y"
          },
          {
           "alignmentgroup": "True",
           "hovertemplate": "main_genre=%{x}<br>release_year_interval=2000<br>count=%{y}<extra></extra>",
           "ids": [
            "HIP HOP"
           ],
           "legendgroup": "HIP HOP",
           "marker": {
            "color": "#EF553B"
           },
           "name": "HIP HOP",
           "offsetgroup": "HIP HOP",
           "orientation": "v",
           "showlegend": true,
           "textposition": "auto",
           "type": "bar",
           "x": [
            "HIP HOP"
           ],
           "xaxis": "x",
           "y": [
            102
           ],
           "yaxis": "y"
          },
          {
           "alignmentgroup": "True",
           "hovertemplate": "main_genre=%{x}<br>release_year_interval=2000<br>count=%{y}<extra></extra>",
           "ids": [
            "EMO"
           ],
           "legendgroup": "EMO",
           "marker": {
            "color": "#00cc96"
           },
           "name": "EMO",
           "offsetgroup": "EMO",
           "orientation": "v",
           "showlegend": true,
           "textposition": "auto",
           "type": "bar",
           "x": [
            "EMO"
           ],
           "xaxis": "x",
           "y": [
            129
           ],
           "yaxis": "y"
          },
          {
           "alignmentgroup": "True",
           "hovertemplate": "main_genre=%{x}<br>release_year_interval=2000<br>count=%{y}<extra></extra>",
           "ids": [
            "MODERN ROCK"
           ],
           "legendgroup": "MODERN ROCK",
           "marker": {
            "color": "#ab63fa"
           },
           "name": "MODERN ROCK",
           "offsetgroup": "MODERN ROCK",
           "orientation": "v",
           "showlegend": true,
           "textposition": "auto",
           "type": "bar",
           "x": [
            "MODERN ROCK"
           ],
           "xaxis": "x",
           "y": [
            159
           ],
           "yaxis": "y"
          },
          {
           "alignmentgroup": "True",
           "hovertemplate": "main_genre=%{x}<br>release_year_interval=2000<br>count=%{y}<extra></extra>",
           "ids": [
            "NEO MELLOW"
           ],
           "legendgroup": "NEO MELLOW",
           "marker": {
            "color": "#FFA15A"
           },
           "name": "NEO MELLOW",
           "offsetgroup": "NEO MELLOW",
           "orientation": "v",
           "showlegend": true,
           "textposition": "auto",
           "type": "bar",
           "x": [
            "NEO MELLOW"
           ],
           "xaxis": "x",
           "y": [
            181
           ],
           "yaxis": "y"
          },
          {
           "alignmentgroup": "True",
           "hovertemplate": "main_genre=%{x}<br>release_year_interval=2000<br>count=%{y}<extra></extra>",
           "ids": [
            "CCM"
           ],
           "legendgroup": "CCM",
           "marker": {
            "color": "#19d3f3"
           },
           "name": "CCM",
           "offsetgroup": "CCM",
           "orientation": "v",
           "showlegend": true,
           "textposition": "auto",
           "type": "bar",
           "x": [
            "CCM"
           ],
           "xaxis": "x",
           "y": [
            99
           ],
           "yaxis": "y"
          }
         ],
         "name": "2000"
        },
        {
         "data": [
          {
           "alignmentgroup": "True",
           "hovertemplate": "main_genre=%{x}<br>release_year_interval=2010<br>count=%{y}<extra></extra>",
           "ids": [
            "CONTEMPORARY COUNTRY"
           ],
           "legendgroup": "CONTEMPORARY COUNTRY",
           "marker": {
            "color": "#FF6692"
           },
           "name": "CONTEMPORARY COUNTRY",
           "offsetgroup": "CONTEMPORARY COUNTRY",
           "orientation": "v",
           "showlegend": true,
           "textposition": "auto",
           "type": "bar",
           "x": [
            "CONTEMPORARY COUNTRY"
           ],
           "xaxis": "x",
           "y": [
            733
           ],
           "yaxis": "y"
          },
          {
           "alignmentgroup": "True",
           "hovertemplate": "main_genre=%{x}<br>release_year_interval=2010<br>count=%{y}<extra></extra>",
           "ids": [
            "ALTERNATIVE METAL"
           ],
           "legendgroup": "ALTERNATIVE METAL",
           "marker": {
            "color": "#FF97FF"
           },
           "name": "ALTERNATIVE METAL",
           "offsetgroup": "ALTERNATIVE METAL",
           "orientation": "v",
           "showlegend": true,
           "textposition": "auto",
           "type": "bar",
           "x": [
            "ALTERNATIVE METAL"
           ],
           "xaxis": "x",
           "y": [
            315
           ],
           "yaxis": "y"
          },
          {
           "alignmentgroup": "True",
           "hovertemplate": "main_genre=%{x}<br>release_year_interval=2010<br>count=%{y}<extra></extra>",
           "ids": [
            "DANCE POP"
           ],
           "legendgroup": "DANCE POP",
           "marker": {
            "color": "#FECB52"
           },
           "name": "DANCE POP",
           "offsetgroup": "DANCE POP",
           "orientation": "v",
           "showlegend": true,
           "textposition": "auto",
           "type": "bar",
           "x": [
            "DANCE POP"
           ],
           "xaxis": "x",
           "y": [
            902
           ],
           "yaxis": "y"
          },
          {
           "alignmentgroup": "True",
           "hovertemplate": "main_genre=%{x}<br>release_year_interval=2010<br>count=%{y}<extra></extra>",
           "ids": [
            "HIP HOP"
           ],
           "legendgroup": "HIP HOP",
           "marker": {
            "color": "#EF553B"
           },
           "name": "HIP HOP",
           "offsetgroup": "HIP HOP",
           "orientation": "v",
           "showlegend": true,
           "textposition": "auto",
           "type": "bar",
           "x": [
            "HIP HOP"
           ],
           "xaxis": "x",
           "y": [
            496
           ],
           "yaxis": "y"
          },
          {
           "alignmentgroup": "True",
           "hovertemplate": "main_genre=%{x}<br>release_year_interval=2010<br>count=%{y}<extra></extra>",
           "ids": [
            "MODERN ROCK"
           ],
           "legendgroup": "MODERN ROCK",
           "marker": {
            "color": "#ab63fa"
           },
           "name": "MODERN ROCK",
           "offsetgroup": "MODERN ROCK",
           "orientation": "v",
           "showlegend": true,
           "textposition": "auto",
           "type": "bar",
           "x": [
            "MODERN ROCK"
           ],
           "xaxis": "x",
           "y": [
            211
           ],
           "yaxis": "y"
          },
          {
           "alignmentgroup": "True",
           "hovertemplate": "main_genre=%{x}<br>release_year_interval=2010<br>count=%{y}<extra></extra>",
           "ids": [
            "CCM"
           ],
           "legendgroup": "CCM",
           "marker": {
            "color": "#19d3f3"
           },
           "name": "CCM",
           "offsetgroup": "CCM",
           "orientation": "v",
           "showlegend": true,
           "textposition": "auto",
           "type": "bar",
           "x": [
            "CCM"
           ],
           "xaxis": "x",
           "y": [
            120
           ],
           "yaxis": "y"
          },
          {
           "alignmentgroup": "True",
           "hovertemplate": "main_genre=%{x}<br>release_year_interval=2010<br>count=%{y}<extra></extra>",
           "ids": [
            "LATIN"
           ],
           "legendgroup": "LATIN",
           "marker": {
            "color": "#FF6692"
           },
           "name": "LATIN",
           "offsetgroup": "LATIN",
           "orientation": "v",
           "showlegend": true,
           "textposition": "auto",
           "type": "bar",
           "x": [
            "LATIN"
           ],
           "xaxis": "x",
           "y": [
            144
           ],
           "yaxis": "y"
          },
          {
           "alignmentgroup": "True",
           "hovertemplate": "main_genre=%{x}<br>release_year_interval=2010<br>count=%{y}<extra></extra>",
           "ids": [
            "POP"
           ],
           "legendgroup": "POP",
           "marker": {
            "color": "#B6E880"
           },
           "name": "POP",
           "offsetgroup": "POP",
           "orientation": "v",
           "showlegend": true,
           "textposition": "auto",
           "type": "bar",
           "x": [
            "POP"
           ],
           "xaxis": "x",
           "y": [
            187
           ],
           "yaxis": "y"
          },
          {
           "alignmentgroup": "True",
           "hovertemplate": "main_genre=%{x}<br>release_year_interval=2010<br>count=%{y}<extra></extra>",
           "ids": [
            "CANADIAN HIP HOP"
           ],
           "legendgroup": "CANADIAN HIP HOP",
           "marker": {
            "color": "#FF97FF"
           },
           "name": "CANADIAN HIP HOP",
           "offsetgroup": "CANADIAN HIP HOP",
           "orientation": "v",
           "showlegend": true,
           "textposition": "auto",
           "type": "bar",
           "x": [
            "CANADIAN HIP HOP"
           ],
           "xaxis": "x",
           "y": [
            187
           ],
           "yaxis": "y"
          },
          {
           "alignmentgroup": "True",
           "hovertemplate": "main_genre=%{x}<br>release_year_interval=2010<br>count=%{y}<extra></extra>",
           "ids": [
            "FOLK-POP"
           ],
           "legendgroup": "FOLK-POP",
           "marker": {
            "color": "#FECB52"
           },
           "name": "FOLK-POP",
           "offsetgroup": "FOLK-POP",
           "orientation": "v",
           "showlegend": true,
           "textposition": "auto",
           "type": "bar",
           "x": [
            "FOLK-POP"
           ],
           "xaxis": "x",
           "y": [
            106
           ],
           "yaxis": "y"
          },
          {
           "alignmentgroup": "True",
           "hovertemplate": "main_genre=%{x}<br>release_year_interval=2010<br>count=%{y}<extra></extra>",
           "ids": [
            "CANADIAN CONTEMPORARY R&B"
           ],
           "legendgroup": "CANADIAN CONTEMPORARY R&B",
           "marker": {
            "color": "#636efa"
           },
           "name": "CANADIAN CONTEMPORARY R&B",
           "offsetgroup": "CANADIAN CONTEMPORARY R&B",
           "orientation": "v",
           "showlegend": true,
           "textposition": "auto",
           "type": "bar",
           "x": [
            "CANADIAN CONTEMPORARY R&B"
           ],
           "xaxis": "x",
           "y": [
            106
           ],
           "yaxis": "y"
          },
          {
           "alignmentgroup": "True",
           "hovertemplate": "main_genre=%{x}<br>release_year_interval=2010<br>count=%{y}<extra></extra>",
           "ids": [
            "CHICAGO RAP"
           ],
           "legendgroup": "CHICAGO RAP",
           "marker": {
            "color": "#EF553B"
           },
           "name": "CHICAGO RAP",
           "offsetgroup": "CHICAGO RAP",
           "orientation": "v",
           "showlegend": true,
           "textposition": "auto",
           "type": "bar",
           "x": [
            "CHICAGO RAP"
           ],
           "xaxis": "x",
           "y": [
            110
           ],
           "yaxis": "y"
          },
          {
           "alignmentgroup": "True",
           "hovertemplate": "main_genre=%{x}<br>release_year_interval=2010<br>count=%{y}<extra></extra>",
           "ids": [
            "K-POP"
           ],
           "legendgroup": "K-POP",
           "marker": {
            "color": "#00cc96"
           },
           "name": "K-POP",
           "offsetgroup": "K-POP",
           "orientation": "v",
           "showlegend": true,
           "textposition": "auto",
           "type": "bar",
           "x": [
            "K-POP"
           ],
           "xaxis": "x",
           "y": [
            112
           ],
           "yaxis": "y"
          },
          {
           "alignmentgroup": "True",
           "hovertemplate": "main_genre=%{x}<br>release_year_interval=2010<br>count=%{y}<extra></extra>",
           "ids": [
            "CONSCIOUS HIP HOP"
           ],
           "legendgroup": "CONSCIOUS HIP HOP",
           "marker": {
            "color": "#ab63fa"
           },
           "name": "CONSCIOUS HIP HOP",
           "offsetgroup": "CONSCIOUS HIP HOP",
           "orientation": "v",
           "showlegend": true,
           "textposition": "auto",
           "type": "bar",
           "x": [
            "CONSCIOUS HIP HOP"
           ],
           "xaxis": "x",
           "y": [
            235
           ],
           "yaxis": "y"
          },
          {
           "alignmentgroup": "True",
           "hovertemplate": "main_genre=%{x}<br>release_year_interval=2010<br>count=%{y}<extra></extra>",
           "ids": [
            "ATL HIP HOP"
           ],
           "legendgroup": "ATL HIP HOP",
           "marker": {
            "color": "#FFA15A"
           },
           "name": "ATL HIP HOP",
           "offsetgroup": "ATL HIP HOP",
           "orientation": "v",
           "showlegend": true,
           "textposition": "auto",
           "type": "bar",
           "x": [
            "ATL HIP HOP"
           ],
           "xaxis": "x",
           "y": [
            158
           ],
           "yaxis": "y"
          },
          {
           "alignmentgroup": "True",
           "hovertemplate": "main_genre=%{x}<br>release_year_interval=2010<br>count=%{y}<extra></extra>",
           "ids": [
            "INDIE POP"
           ],
           "legendgroup": "INDIE POP",
           "marker": {
            "color": "#19d3f3"
           },
           "name": "INDIE POP",
           "offsetgroup": "INDIE POP",
           "orientation": "v",
           "showlegend": true,
           "textposition": "auto",
           "type": "bar",
           "x": [
            "INDIE POP"
           ],
           "xaxis": "x",
           "y": [
            136
           ],
           "yaxis": "y"
          },
          {
           "alignmentgroup": "True",
           "hovertemplate": "main_genre=%{x}<br>release_year_interval=2010<br>count=%{y}<extra></extra>",
           "ids": [
            "ART POP"
           ],
           "legendgroup": "ART POP",
           "marker": {
            "color": "#FF6692"
           },
           "name": "ART POP",
           "offsetgroup": "ART POP",
           "orientation": "v",
           "showlegend": true,
           "textposition": "auto",
           "type": "bar",
           "x": [
            "ART POP"
           ],
           "xaxis": "x",
           "y": [
            190
           ],
           "yaxis": "y"
          }
         ],
         "name": "2010"
        }
       ],
       "layout": {
        "barmode": "relative",
        "legend": {
         "title": {
          "text": "main_genre"
         },
         "tracegroupgap": 0
        },
        "margin": {
         "t": 60
        },
        "sliders": [
         {
          "active": 0,
          "currentvalue": {
           "prefix": "release_year_interval="
          },
          "len": 0.9,
          "pad": {
           "b": 10,
           "t": 60
          },
          "steps": [
           {
            "args": [
             [
              "1960"
             ],
             {
              "frame": {
               "duration": 0,
               "redraw": true
              },
              "fromcurrent": true,
              "mode": "immediate",
              "transition": {
               "duration": 0,
               "easing": "linear"
              }
             }
            ],
            "label": "1960",
            "method": "animate"
           },
           {
            "args": [
             [
              "1970"
             ],
             {
              "frame": {
               "duration": 0,
               "redraw": true
              },
              "fromcurrent": true,
              "mode": "immediate",
              "transition": {
               "duration": 0,
               "easing": "linear"
              }
             }
            ],
            "label": "1970",
            "method": "animate"
           },
           {
            "args": [
             [
              "1980"
             ],
             {
              "frame": {
               "duration": 0,
               "redraw": true
              },
              "fromcurrent": true,
              "mode": "immediate",
              "transition": {
               "duration": 0,
               "easing": "linear"
              }
             }
            ],
            "label": "1980",
            "method": "animate"
           },
           {
            "args": [
             [
              "1990"
             ],
             {
              "frame": {
               "duration": 0,
               "redraw": true
              },
              "fromcurrent": true,
              "mode": "immediate",
              "transition": {
               "duration": 0,
               "easing": "linear"
              }
             }
            ],
            "label": "1990",
            "method": "animate"
           },
           {
            "args": [
             [
              "2000"
             ],
             {
              "frame": {
               "duration": 0,
               "redraw": true
              },
              "fromcurrent": true,
              "mode": "immediate",
              "transition": {
               "duration": 0,
               "easing": "linear"
              }
             }
            ],
            "label": "2000",
            "method": "animate"
           },
           {
            "args": [
             [
              "2010"
             ],
             {
              "frame": {
               "duration": 0,
               "redraw": true
              },
              "fromcurrent": true,
              "mode": "immediate",
              "transition": {
               "duration": 0,
               "easing": "linear"
              }
             }
            ],
            "label": "2010",
            "method": "animate"
           }
          ],
          "x": 0.1,
          "xanchor": "left",
          "y": 0,
          "yanchor": "top"
         }
        ],
        "template": {
         "data": {
          "bar": [
           {
            "error_x": {
             "color": "#2a3f5f"
            },
            "error_y": {
             "color": "#2a3f5f"
            },
            "marker": {
             "line": {
              "color": "#E5ECF6",
              "width": 0.5
             }
            },
            "type": "bar"
           }
          ],
          "barpolar": [
           {
            "marker": {
             "line": {
              "color": "#E5ECF6",
              "width": 0.5
             }
            },
            "type": "barpolar"
           }
          ],
          "carpet": [
           {
            "aaxis": {
             "endlinecolor": "#2a3f5f",
             "gridcolor": "white",
             "linecolor": "white",
             "minorgridcolor": "white",
             "startlinecolor": "#2a3f5f"
            },
            "baxis": {
             "endlinecolor": "#2a3f5f",
             "gridcolor": "white",
             "linecolor": "white",
             "minorgridcolor": "white",
             "startlinecolor": "#2a3f5f"
            },
            "type": "carpet"
           }
          ],
          "choropleth": [
           {
            "colorbar": {
             "outlinewidth": 0,
             "ticks": ""
            },
            "type": "choropleth"
           }
          ],
          "contour": [
           {
            "colorbar": {
             "outlinewidth": 0,
             "ticks": ""
            },
            "colorscale": [
             [
              0,
              "#0d0887"
             ],
             [
              0.1111111111111111,
              "#46039f"
             ],
             [
              0.2222222222222222,
              "#7201a8"
             ],
             [
              0.3333333333333333,
              "#9c179e"
             ],
             [
              0.4444444444444444,
              "#bd3786"
             ],
             [
              0.5555555555555556,
              "#d8576b"
             ],
             [
              0.6666666666666666,
              "#ed7953"
             ],
             [
              0.7777777777777778,
              "#fb9f3a"
             ],
             [
              0.8888888888888888,
              "#fdca26"
             ],
             [
              1,
              "#f0f921"
             ]
            ],
            "type": "contour"
           }
          ],
          "contourcarpet": [
           {
            "colorbar": {
             "outlinewidth": 0,
             "ticks": ""
            },
            "type": "contourcarpet"
           }
          ],
          "heatmap": [
           {
            "colorbar": {
             "outlinewidth": 0,
             "ticks": ""
            },
            "colorscale": [
             [
              0,
              "#0d0887"
             ],
             [
              0.1111111111111111,
              "#46039f"
             ],
             [
              0.2222222222222222,
              "#7201a8"
             ],
             [
              0.3333333333333333,
              "#9c179e"
             ],
             [
              0.4444444444444444,
              "#bd3786"
             ],
             [
              0.5555555555555556,
              "#d8576b"
             ],
             [
              0.6666666666666666,
              "#ed7953"
             ],
             [
              0.7777777777777778,
              "#fb9f3a"
             ],
             [
              0.8888888888888888,
              "#fdca26"
             ],
             [
              1,
              "#f0f921"
             ]
            ],
            "type": "heatmap"
           }
          ],
          "heatmapgl": [
           {
            "colorbar": {
             "outlinewidth": 0,
             "ticks": ""
            },
            "colorscale": [
             [
              0,
              "#0d0887"
             ],
             [
              0.1111111111111111,
              "#46039f"
             ],
             [
              0.2222222222222222,
              "#7201a8"
             ],
             [
              0.3333333333333333,
              "#9c179e"
             ],
             [
              0.4444444444444444,
              "#bd3786"
             ],
             [
              0.5555555555555556,
              "#d8576b"
             ],
             [
              0.6666666666666666,
              "#ed7953"
             ],
             [
              0.7777777777777778,
              "#fb9f3a"
             ],
             [
              0.8888888888888888,
              "#fdca26"
             ],
             [
              1,
              "#f0f921"
             ]
            ],
            "type": "heatmapgl"
           }
          ],
          "histogram": [
           {
            "marker": {
             "colorbar": {
              "outlinewidth": 0,
              "ticks": ""
             }
            },
            "type": "histogram"
           }
          ],
          "histogram2d": [
           {
            "colorbar": {
             "outlinewidth": 0,
             "ticks": ""
            },
            "colorscale": [
             [
              0,
              "#0d0887"
             ],
             [
              0.1111111111111111,
              "#46039f"
             ],
             [
              0.2222222222222222,
              "#7201a8"
             ],
             [
              0.3333333333333333,
              "#9c179e"
             ],
             [
              0.4444444444444444,
              "#bd3786"
             ],
             [
              0.5555555555555556,
              "#d8576b"
             ],
             [
              0.6666666666666666,
              "#ed7953"
             ],
             [
              0.7777777777777778,
              "#fb9f3a"
             ],
             [
              0.8888888888888888,
              "#fdca26"
             ],
             [
              1,
              "#f0f921"
             ]
            ],
            "type": "histogram2d"
           }
          ],
          "histogram2dcontour": [
           {
            "colorbar": {
             "outlinewidth": 0,
             "ticks": ""
            },
            "colorscale": [
             [
              0,
              "#0d0887"
             ],
             [
              0.1111111111111111,
              "#46039f"
             ],
             [
              0.2222222222222222,
              "#7201a8"
             ],
             [
              0.3333333333333333,
              "#9c179e"
             ],
             [
              0.4444444444444444,
              "#bd3786"
             ],
             [
              0.5555555555555556,
              "#d8576b"
             ],
             [
              0.6666666666666666,
              "#ed7953"
             ],
             [
              0.7777777777777778,
              "#fb9f3a"
             ],
             [
              0.8888888888888888,
              "#fdca26"
             ],
             [
              1,
              "#f0f921"
             ]
            ],
            "type": "histogram2dcontour"
           }
          ],
          "mesh3d": [
           {
            "colorbar": {
             "outlinewidth": 0,
             "ticks": ""
            },
            "type": "mesh3d"
           }
          ],
          "parcoords": [
           {
            "line": {
             "colorbar": {
              "outlinewidth": 0,
              "ticks": ""
             }
            },
            "type": "parcoords"
           }
          ],
          "pie": [
           {
            "automargin": true,
            "type": "pie"
           }
          ],
          "scatter": [
           {
            "marker": {
             "colorbar": {
              "outlinewidth": 0,
              "ticks": ""
             }
            },
            "type": "scatter"
           }
          ],
          "scatter3d": [
           {
            "line": {
             "colorbar": {
              "outlinewidth": 0,
              "ticks": ""
             }
            },
            "marker": {
             "colorbar": {
              "outlinewidth": 0,
              "ticks": ""
             }
            },
            "type": "scatter3d"
           }
          ],
          "scattercarpet": [
           {
            "marker": {
             "colorbar": {
              "outlinewidth": 0,
              "ticks": ""
             }
            },
            "type": "scattercarpet"
           }
          ],
          "scattergeo": [
           {
            "marker": {
             "colorbar": {
              "outlinewidth": 0,
              "ticks": ""
             }
            },
            "type": "scattergeo"
           }
          ],
          "scattergl": [
           {
            "marker": {
             "colorbar": {
              "outlinewidth": 0,
              "ticks": ""
             }
            },
            "type": "scattergl"
           }
          ],
          "scattermapbox": [
           {
            "marker": {
             "colorbar": {
              "outlinewidth": 0,
              "ticks": ""
             }
            },
            "type": "scattermapbox"
           }
          ],
          "scatterpolar": [
           {
            "marker": {
             "colorbar": {
              "outlinewidth": 0,
              "ticks": ""
             }
            },
            "type": "scatterpolar"
           }
          ],
          "scatterpolargl": [
           {
            "marker": {
             "colorbar": {
              "outlinewidth": 0,
              "ticks": ""
             }
            },
            "type": "scatterpolargl"
           }
          ],
          "scatterternary": [
           {
            "marker": {
             "colorbar": {
              "outlinewidth": 0,
              "ticks": ""
             }
            },
            "type": "scatterternary"
           }
          ],
          "surface": [
           {
            "colorbar": {
             "outlinewidth": 0,
             "ticks": ""
            },
            "colorscale": [
             [
              0,
              "#0d0887"
             ],
             [
              0.1111111111111111,
              "#46039f"
             ],
             [
              0.2222222222222222,
              "#7201a8"
             ],
             [
              0.3333333333333333,
              "#9c179e"
             ],
             [
              0.4444444444444444,
              "#bd3786"
             ],
             [
              0.5555555555555556,
              "#d8576b"
             ],
             [
              0.6666666666666666,
              "#ed7953"
             ],
             [
              0.7777777777777778,
              "#fb9f3a"
             ],
             [
              0.8888888888888888,
              "#fdca26"
             ],
             [
              1,
              "#f0f921"
             ]
            ],
            "type": "surface"
           }
          ],
          "table": [
           {
            "cells": {
             "fill": {
              "color": "#EBF0F8"
             },
             "line": {
              "color": "white"
             }
            },
            "header": {
             "fill": {
              "color": "#C8D4E3"
             },
             "line": {
              "color": "white"
             }
            },
            "type": "table"
           }
          ]
         },
         "layout": {
          "annotationdefaults": {
           "arrowcolor": "#2a3f5f",
           "arrowhead": 0,
           "arrowwidth": 1
          },
          "coloraxis": {
           "colorbar": {
            "outlinewidth": 0,
            "ticks": ""
           }
          },
          "colorscale": {
           "diverging": [
            [
             0,
             "#8e0152"
            ],
            [
             0.1,
             "#c51b7d"
            ],
            [
             0.2,
             "#de77ae"
            ],
            [
             0.3,
             "#f1b6da"
            ],
            [
             0.4,
             "#fde0ef"
            ],
            [
             0.5,
             "#f7f7f7"
            ],
            [
             0.6,
             "#e6f5d0"
            ],
            [
             0.7,
             "#b8e186"
            ],
            [
             0.8,
             "#7fbc41"
            ],
            [
             0.9,
             "#4d9221"
            ],
            [
             1,
             "#276419"
            ]
           ],
           "sequential": [
            [
             0,
             "#0d0887"
            ],
            [
             0.1111111111111111,
             "#46039f"
            ],
            [
             0.2222222222222222,
             "#7201a8"
            ],
            [
             0.3333333333333333,
             "#9c179e"
            ],
            [
             0.4444444444444444,
             "#bd3786"
            ],
            [
             0.5555555555555556,
             "#d8576b"
            ],
            [
             0.6666666666666666,
             "#ed7953"
            ],
            [
             0.7777777777777778,
             "#fb9f3a"
            ],
            [
             0.8888888888888888,
             "#fdca26"
            ],
            [
             1,
             "#f0f921"
            ]
           ],
           "sequentialminus": [
            [
             0,
             "#0d0887"
            ],
            [
             0.1111111111111111,
             "#46039f"
            ],
            [
             0.2222222222222222,
             "#7201a8"
            ],
            [
             0.3333333333333333,
             "#9c179e"
            ],
            [
             0.4444444444444444,
             "#bd3786"
            ],
            [
             0.5555555555555556,
             "#d8576b"
            ],
            [
             0.6666666666666666,
             "#ed7953"
            ],
            [
             0.7777777777777778,
             "#fb9f3a"
            ],
            [
             0.8888888888888888,
             "#fdca26"
            ],
            [
             1,
             "#f0f921"
            ]
           ]
          },
          "colorway": [
           "#636efa",
           "#EF553B",
           "#00cc96",
           "#ab63fa",
           "#FFA15A",
           "#19d3f3",
           "#FF6692",
           "#B6E880",
           "#FF97FF",
           "#FECB52"
          ],
          "font": {
           "color": "#2a3f5f"
          },
          "geo": {
           "bgcolor": "white",
           "lakecolor": "white",
           "landcolor": "#E5ECF6",
           "showlakes": true,
           "showland": true,
           "subunitcolor": "white"
          },
          "hoverlabel": {
           "align": "left"
          },
          "hovermode": "closest",
          "mapbox": {
           "style": "light"
          },
          "paper_bgcolor": "white",
          "plot_bgcolor": "#E5ECF6",
          "polar": {
           "angularaxis": {
            "gridcolor": "white",
            "linecolor": "white",
            "ticks": ""
           },
           "bgcolor": "#E5ECF6",
           "radialaxis": {
            "gridcolor": "white",
            "linecolor": "white",
            "ticks": ""
           }
          },
          "scene": {
           "xaxis": {
            "backgroundcolor": "#E5ECF6",
            "gridcolor": "white",
            "gridwidth": 2,
            "linecolor": "white",
            "showbackground": true,
            "ticks": "",
            "zerolinecolor": "white"
           },
           "yaxis": {
            "backgroundcolor": "#E5ECF6",
            "gridcolor": "white",
            "gridwidth": 2,
            "linecolor": "white",
            "showbackground": true,
            "ticks": "",
            "zerolinecolor": "white"
           },
           "zaxis": {
            "backgroundcolor": "#E5ECF6",
            "gridcolor": "white",
            "gridwidth": 2,
            "linecolor": "white",
            "showbackground": true,
            "ticks": "",
            "zerolinecolor": "white"
           }
          },
          "shapedefaults": {
           "line": {
            "color": "#2a3f5f"
           }
          },
          "ternary": {
           "aaxis": {
            "gridcolor": "white",
            "linecolor": "white",
            "ticks": ""
           },
           "baxis": {
            "gridcolor": "white",
            "linecolor": "white",
            "ticks": ""
           },
           "bgcolor": "#E5ECF6",
           "caxis": {
            "gridcolor": "white",
            "linecolor": "white",
            "ticks": ""
           }
          },
          "title": {
           "x": 0.05
          },
          "xaxis": {
           "automargin": true,
           "gridcolor": "white",
           "linecolor": "white",
           "ticks": "",
           "title": {
            "standoff": 15
           },
           "zerolinecolor": "white",
           "zerolinewidth": 2
          },
          "yaxis": {
           "automargin": true,
           "gridcolor": "white",
           "linecolor": "white",
           "ticks": "",
           "title": {
            "standoff": 15
           },
           "zerolinecolor": "white",
           "zerolinewidth": 2
          }
         }
        },
        "updatemenus": [
         {
          "buttons": [
           {
            "args": [
             null,
             {
              "frame": {
               "duration": 500,
               "redraw": true
              },
              "fromcurrent": true,
              "mode": "immediate",
              "transition": {
               "duration": 500,
               "easing": "linear"
              }
             }
            ],
            "label": "&#9654;",
            "method": "animate"
           },
           {
            "args": [
             [
              null
             ],
             {
              "frame": {
               "duration": 0,
               "redraw": true
              },
              "fromcurrent": true,
              "mode": "immediate",
              "transition": {
               "duration": 0,
               "easing": "linear"
              }
             }
            ],
            "label": "&#9724;",
            "method": "animate"
           }
          ],
          "direction": "left",
          "pad": {
           "r": 10,
           "t": 70
          },
          "showactive": false,
          "type": "buttons",
          "x": 0.1,
          "xanchor": "right",
          "y": 0,
          "yanchor": "top"
         }
        ],
        "xaxis": {
         "anchor": "y",
         "categoryarray": [
          "ADULT STANDARDS",
          "ALBUM ROCK",
          "BAROQUE POP",
          "CLASSIC ROCK",
          "CLASSIC COUNTRY POP",
          "GLAM ROCK",
          "COUNTRY ROCK",
          "BLUES ROCK",
          "ART ROCK",
          "HARD ROCK",
          "MELLOW GOLD",
          "ALTERNATIVE ROCK",
          "IRISH ROCK",
          "DANCE ROCK",
          "PERMANENT WAVE",
          "BANDA",
          "CONTEMPORARY COUNTRY",
          "EAST COAST HIP HOP",
          "ALTERNATIVE METAL",
          "DANCE POP",
          "ACOUSTIC POP",
          "HIP HOP",
          "EMO",
          "MODERN ROCK",
          "NEO MELLOW",
          "CCM",
          "LATIN",
          "POP",
          "CANADIAN HIP HOP",
          "FOLK-POP",
          "CANADIAN CONTEMPORARY R&B",
          "CHICAGO RAP",
          "K-POP",
          "CONSCIOUS HIP HOP",
          "ATL HIP HOP",
          "INDIE POP",
          "ART POP"
         ],
         "categoryorder": "array",
         "domain": [
          0,
          1
         ],
         "title": {
          "text": "main_genre"
         }
        },
        "yaxis": {
         "anchor": "x",
         "domain": [
          0,
          1
         ],
         "range": [
          0,
          2700
         ],
         "title": {
          "text": "count"
         }
        }
       }
      },
      "text/html": [
       "<div>                            <div id=\"fffb4c50-161a-4587-a4e6-b53c7cf42db9\" class=\"plotly-graph-div\" style=\"height:525px; width:100%;\"></div>            <script type=\"text/javascript\">                require([\"plotly\"], function(Plotly) {                    window.PLOTLYENV=window.PLOTLYENV || {};                                    if (document.getElementById(\"fffb4c50-161a-4587-a4e6-b53c7cf42db9\")) {                    Plotly.newPlot(                        \"fffb4c50-161a-4587-a4e6-b53c7cf42db9\",                        [{\"alignmentgroup\": \"True\", \"hovertemplate\": \"main_genre=%{x}<br>release_year_interval=1960<br>count=%{y}<extra></extra>\", \"ids\": [\"ADULT STANDARDS\"], \"legendgroup\": \"ADULT STANDARDS\", \"marker\": {\"color\": \"#636efa\"}, \"name\": \"ADULT STANDARDS\", \"offsetgroup\": \"ADULT STANDARDS\", \"orientation\": \"v\", \"showlegend\": true, \"textposition\": \"auto\", \"type\": \"bar\", \"x\": [\"ADULT STANDARDS\"], \"xaxis\": \"x\", \"y\": [134], \"yaxis\": \"y\"}, {\"alignmentgroup\": \"True\", \"hovertemplate\": \"main_genre=%{x}<br>release_year_interval=1960<br>count=%{y}<extra></extra>\", \"ids\": [\"ALBUM ROCK\"], \"legendgroup\": \"ALBUM ROCK\", \"marker\": {\"color\": \"#EF553B\"}, \"name\": \"ALBUM ROCK\", \"offsetgroup\": \"ALBUM ROCK\", \"orientation\": \"v\", \"showlegend\": true, \"textposition\": \"auto\", \"type\": \"bar\", \"x\": [\"ALBUM ROCK\"], \"xaxis\": \"x\", \"y\": [851], \"yaxis\": \"y\"}, {\"alignmentgroup\": \"True\", \"hovertemplate\": \"main_genre=%{x}<br>release_year_interval=1960<br>count=%{y}<extra></extra>\", \"ids\": [\"BAROQUE POP\"], \"legendgroup\": \"BAROQUE POP\", \"marker\": {\"color\": \"#00cc96\"}, \"name\": \"BAROQUE POP\", \"offsetgroup\": \"BAROQUE POP\", \"orientation\": \"v\", \"showlegend\": true, \"textposition\": \"auto\", \"type\": \"bar\", \"x\": [\"BAROQUE POP\"], \"xaxis\": \"x\", \"y\": [429], \"yaxis\": \"y\"}],                        {\"barmode\": \"relative\", \"legend\": {\"title\": {\"text\": \"main_genre\"}, \"tracegroupgap\": 0}, \"margin\": {\"t\": 60}, \"sliders\": [{\"active\": 0, \"currentvalue\": {\"prefix\": \"release_year_interval=\"}, \"len\": 0.9, \"pad\": {\"b\": 10, \"t\": 60}, \"steps\": [{\"args\": [[\"1960\"], {\"frame\": {\"duration\": 0, \"redraw\": true}, \"fromcurrent\": true, \"mode\": \"immediate\", \"transition\": {\"duration\": 0, \"easing\": \"linear\"}}], \"label\": \"1960\", \"method\": \"animate\"}, {\"args\": [[\"1970\"], {\"frame\": {\"duration\": 0, \"redraw\": true}, \"fromcurrent\": true, \"mode\": \"immediate\", \"transition\": {\"duration\": 0, \"easing\": \"linear\"}}], \"label\": \"1970\", \"method\": \"animate\"}, {\"args\": [[\"1980\"], {\"frame\": {\"duration\": 0, \"redraw\": true}, \"fromcurrent\": true, \"mode\": \"immediate\", \"transition\": {\"duration\": 0, \"easing\": \"linear\"}}], \"label\": \"1980\", \"method\": \"animate\"}, {\"args\": [[\"1990\"], {\"frame\": {\"duration\": 0, \"redraw\": true}, \"fromcurrent\": true, \"mode\": \"immediate\", \"transition\": {\"duration\": 0, \"easing\": \"linear\"}}], \"label\": \"1990\", \"method\": \"animate\"}, {\"args\": [[\"2000\"], {\"frame\": {\"duration\": 0, \"redraw\": true}, \"fromcurrent\": true, \"mode\": \"immediate\", \"transition\": {\"duration\": 0, \"easing\": \"linear\"}}], \"label\": \"2000\", \"method\": \"animate\"}, {\"args\": [[\"2010\"], {\"frame\": {\"duration\": 0, \"redraw\": true}, \"fromcurrent\": true, \"mode\": \"immediate\", \"transition\": {\"duration\": 0, \"easing\": \"linear\"}}], \"label\": \"2010\", \"method\": \"animate\"}], \"x\": 0.1, \"xanchor\": \"left\", \"y\": 0, \"yanchor\": \"top\"}], \"template\": {\"data\": {\"bar\": [{\"error_x\": {\"color\": \"#2a3f5f\"}, \"error_y\": {\"color\": \"#2a3f5f\"}, \"marker\": {\"line\": {\"color\": \"#E5ECF6\", \"width\": 0.5}}, \"type\": \"bar\"}], \"barpolar\": [{\"marker\": {\"line\": {\"color\": \"#E5ECF6\", \"width\": 0.5}}, \"type\": \"barpolar\"}], \"carpet\": [{\"aaxis\": {\"endlinecolor\": \"#2a3f5f\", \"gridcolor\": \"white\", \"linecolor\": \"white\", \"minorgridcolor\": \"white\", \"startlinecolor\": \"#2a3f5f\"}, \"baxis\": {\"endlinecolor\": \"#2a3f5f\", \"gridcolor\": \"white\", \"linecolor\": \"white\", \"minorgridcolor\": \"white\", \"startlinecolor\": \"#2a3f5f\"}, \"type\": \"carpet\"}], \"choropleth\": [{\"colorbar\": {\"outlinewidth\": 0, \"ticks\": \"\"}, \"type\": \"choropleth\"}], \"contour\": [{\"colorbar\": {\"outlinewidth\": 0, \"ticks\": \"\"}, \"colorscale\": [[0.0, \"#0d0887\"], [0.1111111111111111, \"#46039f\"], [0.2222222222222222, \"#7201a8\"], [0.3333333333333333, \"#9c179e\"], [0.4444444444444444, \"#bd3786\"], [0.5555555555555556, \"#d8576b\"], [0.6666666666666666, \"#ed7953\"], [0.7777777777777778, \"#fb9f3a\"], [0.8888888888888888, \"#fdca26\"], [1.0, \"#f0f921\"]], \"type\": \"contour\"}], \"contourcarpet\": [{\"colorbar\": {\"outlinewidth\": 0, \"ticks\": \"\"}, \"type\": \"contourcarpet\"}], \"heatmap\": [{\"colorbar\": {\"outlinewidth\": 0, \"ticks\": \"\"}, \"colorscale\": [[0.0, \"#0d0887\"], [0.1111111111111111, \"#46039f\"], [0.2222222222222222, \"#7201a8\"], [0.3333333333333333, \"#9c179e\"], [0.4444444444444444, \"#bd3786\"], [0.5555555555555556, \"#d8576b\"], [0.6666666666666666, \"#ed7953\"], [0.7777777777777778, \"#fb9f3a\"], [0.8888888888888888, \"#fdca26\"], [1.0, \"#f0f921\"]], \"type\": \"heatmap\"}], \"heatmapgl\": [{\"colorbar\": {\"outlinewidth\": 0, \"ticks\": \"\"}, \"colorscale\": [[0.0, \"#0d0887\"], [0.1111111111111111, \"#46039f\"], [0.2222222222222222, \"#7201a8\"], [0.3333333333333333, \"#9c179e\"], [0.4444444444444444, \"#bd3786\"], [0.5555555555555556, \"#d8576b\"], [0.6666666666666666, \"#ed7953\"], [0.7777777777777778, \"#fb9f3a\"], [0.8888888888888888, \"#fdca26\"], [1.0, \"#f0f921\"]], \"type\": \"heatmapgl\"}], \"histogram\": [{\"marker\": {\"colorbar\": {\"outlinewidth\": 0, \"ticks\": \"\"}}, \"type\": \"histogram\"}], \"histogram2d\": [{\"colorbar\": {\"outlinewidth\": 0, \"ticks\": \"\"}, \"colorscale\": [[0.0, \"#0d0887\"], [0.1111111111111111, \"#46039f\"], [0.2222222222222222, \"#7201a8\"], [0.3333333333333333, \"#9c179e\"], [0.4444444444444444, \"#bd3786\"], [0.5555555555555556, \"#d8576b\"], [0.6666666666666666, \"#ed7953\"], [0.7777777777777778, \"#fb9f3a\"], [0.8888888888888888, \"#fdca26\"], [1.0, \"#f0f921\"]], \"type\": \"histogram2d\"}], \"histogram2dcontour\": [{\"colorbar\": {\"outlinewidth\": 0, \"ticks\": \"\"}, \"colorscale\": [[0.0, \"#0d0887\"], [0.1111111111111111, \"#46039f\"], [0.2222222222222222, \"#7201a8\"], [0.3333333333333333, \"#9c179e\"], [0.4444444444444444, \"#bd3786\"], [0.5555555555555556, \"#d8576b\"], [0.6666666666666666, \"#ed7953\"], [0.7777777777777778, \"#fb9f3a\"], [0.8888888888888888, \"#fdca26\"], [1.0, \"#f0f921\"]], \"type\": \"histogram2dcontour\"}], \"mesh3d\": [{\"colorbar\": {\"outlinewidth\": 0, \"ticks\": \"\"}, \"type\": \"mesh3d\"}], \"parcoords\": [{\"line\": {\"colorbar\": {\"outlinewidth\": 0, \"ticks\": \"\"}}, \"type\": \"parcoords\"}], \"pie\": [{\"automargin\": true, \"type\": \"pie\"}], \"scatter\": [{\"marker\": {\"colorbar\": {\"outlinewidth\": 0, \"ticks\": \"\"}}, \"type\": \"scatter\"}], \"scatter3d\": [{\"line\": {\"colorbar\": {\"outlinewidth\": 0, \"ticks\": \"\"}}, \"marker\": {\"colorbar\": {\"outlinewidth\": 0, \"ticks\": \"\"}}, \"type\": \"scatter3d\"}], \"scattercarpet\": [{\"marker\": {\"colorbar\": {\"outlinewidth\": 0, \"ticks\": \"\"}}, \"type\": \"scattercarpet\"}], \"scattergeo\": [{\"marker\": {\"colorbar\": {\"outlinewidth\": 0, \"ticks\": \"\"}}, \"type\": \"scattergeo\"}], \"scattergl\": [{\"marker\": {\"colorbar\": {\"outlinewidth\": 0, \"ticks\": \"\"}}, \"type\": \"scattergl\"}], \"scattermapbox\": [{\"marker\": {\"colorbar\": {\"outlinewidth\": 0, \"ticks\": \"\"}}, \"type\": \"scattermapbox\"}], \"scatterpolar\": [{\"marker\": {\"colorbar\": {\"outlinewidth\": 0, \"ticks\": \"\"}}, \"type\": \"scatterpolar\"}], \"scatterpolargl\": [{\"marker\": {\"colorbar\": {\"outlinewidth\": 0, \"ticks\": \"\"}}, \"type\": \"scatterpolargl\"}], \"scatterternary\": [{\"marker\": {\"colorbar\": {\"outlinewidth\": 0, \"ticks\": \"\"}}, \"type\": \"scatterternary\"}], \"surface\": [{\"colorbar\": {\"outlinewidth\": 0, \"ticks\": \"\"}, \"colorscale\": [[0.0, \"#0d0887\"], [0.1111111111111111, \"#46039f\"], [0.2222222222222222, \"#7201a8\"], [0.3333333333333333, \"#9c179e\"], [0.4444444444444444, \"#bd3786\"], [0.5555555555555556, \"#d8576b\"], [0.6666666666666666, \"#ed7953\"], [0.7777777777777778, \"#fb9f3a\"], [0.8888888888888888, \"#fdca26\"], [1.0, \"#f0f921\"]], \"type\": \"surface\"}], \"table\": [{\"cells\": {\"fill\": {\"color\": \"#EBF0F8\"}, \"line\": {\"color\": \"white\"}}, \"header\": {\"fill\": {\"color\": \"#C8D4E3\"}, \"line\": {\"color\": \"white\"}}, \"type\": \"table\"}]}, \"layout\": {\"annotationdefaults\": {\"arrowcolor\": \"#2a3f5f\", \"arrowhead\": 0, \"arrowwidth\": 1}, \"coloraxis\": {\"colorbar\": {\"outlinewidth\": 0, \"ticks\": \"\"}}, \"colorscale\": {\"diverging\": [[0, \"#8e0152\"], [0.1, \"#c51b7d\"], [0.2, \"#de77ae\"], [0.3, \"#f1b6da\"], [0.4, \"#fde0ef\"], [0.5, \"#f7f7f7\"], [0.6, \"#e6f5d0\"], [0.7, \"#b8e186\"], [0.8, \"#7fbc41\"], [0.9, \"#4d9221\"], [1, \"#276419\"]], \"sequential\": [[0.0, \"#0d0887\"], [0.1111111111111111, \"#46039f\"], [0.2222222222222222, \"#7201a8\"], [0.3333333333333333, \"#9c179e\"], [0.4444444444444444, \"#bd3786\"], [0.5555555555555556, \"#d8576b\"], [0.6666666666666666, \"#ed7953\"], [0.7777777777777778, \"#fb9f3a\"], [0.8888888888888888, \"#fdca26\"], [1.0, \"#f0f921\"]], \"sequentialminus\": [[0.0, \"#0d0887\"], [0.1111111111111111, \"#46039f\"], [0.2222222222222222, \"#7201a8\"], [0.3333333333333333, \"#9c179e\"], [0.4444444444444444, \"#bd3786\"], [0.5555555555555556, \"#d8576b\"], [0.6666666666666666, \"#ed7953\"], [0.7777777777777778, \"#fb9f3a\"], [0.8888888888888888, \"#fdca26\"], [1.0, \"#f0f921\"]]}, \"colorway\": [\"#636efa\", \"#EF553B\", \"#00cc96\", \"#ab63fa\", \"#FFA15A\", \"#19d3f3\", \"#FF6692\", \"#B6E880\", \"#FF97FF\", \"#FECB52\"], \"font\": {\"color\": \"#2a3f5f\"}, \"geo\": {\"bgcolor\": \"white\", \"lakecolor\": \"white\", \"landcolor\": \"#E5ECF6\", \"showlakes\": true, \"showland\": true, \"subunitcolor\": \"white\"}, \"hoverlabel\": {\"align\": \"left\"}, \"hovermode\": \"closest\", \"mapbox\": {\"style\": \"light\"}, \"paper_bgcolor\": \"white\", \"plot_bgcolor\": \"#E5ECF6\", \"polar\": {\"angularaxis\": {\"gridcolor\": \"white\", \"linecolor\": \"white\", \"ticks\": \"\"}, \"bgcolor\": \"#E5ECF6\", \"radialaxis\": {\"gridcolor\": \"white\", \"linecolor\": \"white\", \"ticks\": \"\"}}, \"scene\": {\"xaxis\": {\"backgroundcolor\": \"#E5ECF6\", \"gridcolor\": \"white\", \"gridwidth\": 2, \"linecolor\": \"white\", \"showbackground\": true, \"ticks\": \"\", \"zerolinecolor\": \"white\"}, \"yaxis\": {\"backgroundcolor\": \"#E5ECF6\", \"gridcolor\": \"white\", \"gridwidth\": 2, \"linecolor\": \"white\", \"showbackground\": true, \"ticks\": \"\", \"zerolinecolor\": \"white\"}, \"zaxis\": {\"backgroundcolor\": \"#E5ECF6\", \"gridcolor\": \"white\", \"gridwidth\": 2, \"linecolor\": \"white\", \"showbackground\": true, \"ticks\": \"\", \"zerolinecolor\": \"white\"}}, \"shapedefaults\": {\"line\": {\"color\": \"#2a3f5f\"}}, \"ternary\": {\"aaxis\": {\"gridcolor\": \"white\", \"linecolor\": \"white\", \"ticks\": \"\"}, \"baxis\": {\"gridcolor\": \"white\", \"linecolor\": \"white\", \"ticks\": \"\"}, \"bgcolor\": \"#E5ECF6\", \"caxis\": {\"gridcolor\": \"white\", \"linecolor\": \"white\", \"ticks\": \"\"}}, \"title\": {\"x\": 0.05}, \"xaxis\": {\"automargin\": true, \"gridcolor\": \"white\", \"linecolor\": \"white\", \"ticks\": \"\", \"title\": {\"standoff\": 15}, \"zerolinecolor\": \"white\", \"zerolinewidth\": 2}, \"yaxis\": {\"automargin\": true, \"gridcolor\": \"white\", \"linecolor\": \"white\", \"ticks\": \"\", \"title\": {\"standoff\": 15}, \"zerolinecolor\": \"white\", \"zerolinewidth\": 2}}}, \"updatemenus\": [{\"buttons\": [{\"args\": [null, {\"frame\": {\"duration\": 500, \"redraw\": true}, \"fromcurrent\": true, \"mode\": \"immediate\", \"transition\": {\"duration\": 500, \"easing\": \"linear\"}}], \"label\": \"&#9654;\", \"method\": \"animate\"}, {\"args\": [[null], {\"frame\": {\"duration\": 0, \"redraw\": true}, \"fromcurrent\": true, \"mode\": \"immediate\", \"transition\": {\"duration\": 0, \"easing\": \"linear\"}}], \"label\": \"&#9724;\", \"method\": \"animate\"}], \"direction\": \"left\", \"pad\": {\"r\": 10, \"t\": 70}, \"showactive\": false, \"type\": \"buttons\", \"x\": 0.1, \"xanchor\": \"right\", \"y\": 0, \"yanchor\": \"top\"}], \"xaxis\": {\"anchor\": \"y\", \"categoryarray\": [\"ADULT STANDARDS\", \"ALBUM ROCK\", \"BAROQUE POP\", \"CLASSIC ROCK\", \"CLASSIC COUNTRY POP\", \"GLAM ROCK\", \"COUNTRY ROCK\", \"BLUES ROCK\", \"ART ROCK\", \"HARD ROCK\", \"MELLOW GOLD\", \"ALTERNATIVE ROCK\", \"IRISH ROCK\", \"DANCE ROCK\", \"PERMANENT WAVE\", \"BANDA\", \"CONTEMPORARY COUNTRY\", \"EAST COAST HIP HOP\", \"ALTERNATIVE METAL\", \"DANCE POP\", \"ACOUSTIC POP\", \"HIP HOP\", \"EMO\", \"MODERN ROCK\", \"NEO MELLOW\", \"CCM\", \"LATIN\", \"POP\", \"CANADIAN HIP HOP\", \"FOLK-POP\", \"CANADIAN CONTEMPORARY R&B\", \"CHICAGO RAP\", \"K-POP\", \"CONSCIOUS HIP HOP\", \"ATL HIP HOP\", \"INDIE POP\", \"ART POP\"], \"categoryorder\": \"array\", \"domain\": [0.0, 1.0], \"title\": {\"text\": \"main_genre\"}}, \"yaxis\": {\"anchor\": \"x\", \"domain\": [0.0, 1.0], \"range\": [0, 2700], \"title\": {\"text\": \"count\"}}},                        {\"responsive\": true}                    ).then(function(){\n",
       "                            Plotly.addFrames('fffb4c50-161a-4587-a4e6-b53c7cf42db9', [{\"data\": [{\"alignmentgroup\": \"True\", \"hovertemplate\": \"main_genre=%{x}<br>release_year_interval=1960<br>count=%{y}<extra></extra>\", \"ids\": [\"ADULT STANDARDS\"], \"legendgroup\": \"ADULT STANDARDS\", \"marker\": {\"color\": \"#636efa\"}, \"name\": \"ADULT STANDARDS\", \"offsetgroup\": \"ADULT STANDARDS\", \"orientation\": \"v\", \"showlegend\": true, \"textposition\": \"auto\", \"x\": [\"ADULT STANDARDS\"], \"xaxis\": \"x\", \"y\": [134], \"yaxis\": \"y\", \"type\": \"bar\"}, {\"alignmentgroup\": \"True\", \"hovertemplate\": \"main_genre=%{x}<br>release_year_interval=1960<br>count=%{y}<extra></extra>\", \"ids\": [\"ALBUM ROCK\"], \"legendgroup\": \"ALBUM ROCK\", \"marker\": {\"color\": \"#EF553B\"}, \"name\": \"ALBUM ROCK\", \"offsetgroup\": \"ALBUM ROCK\", \"orientation\": \"v\", \"showlegend\": true, \"textposition\": \"auto\", \"x\": [\"ALBUM ROCK\"], \"xaxis\": \"x\", \"y\": [851], \"yaxis\": \"y\", \"type\": \"bar\"}, {\"alignmentgroup\": \"True\", \"hovertemplate\": \"main_genre=%{x}<br>release_year_interval=1960<br>count=%{y}<extra></extra>\", \"ids\": [\"BAROQUE POP\"], \"legendgroup\": \"BAROQUE POP\", \"marker\": {\"color\": \"#00cc96\"}, \"name\": \"BAROQUE POP\", \"offsetgroup\": \"BAROQUE POP\", \"orientation\": \"v\", \"showlegend\": true, \"textposition\": \"auto\", \"x\": [\"BAROQUE POP\"], \"xaxis\": \"x\", \"y\": [429], \"yaxis\": \"y\", \"type\": \"bar\"}], \"name\": \"1960\"}, {\"data\": [{\"alignmentgroup\": \"True\", \"hovertemplate\": \"main_genre=%{x}<br>release_year_interval=1970<br>count=%{y}<extra></extra>\", \"ids\": [\"ADULT STANDARDS\"], \"legendgroup\": \"ADULT STANDARDS\", \"marker\": {\"color\": \"#636efa\"}, \"name\": \"ADULT STANDARDS\", \"offsetgroup\": \"ADULT STANDARDS\", \"orientation\": \"v\", \"showlegend\": true, \"textposition\": \"auto\", \"x\": [\"ADULT STANDARDS\"], \"xaxis\": \"x\", \"y\": [239], \"yaxis\": \"y\", \"type\": \"bar\"}, {\"alignmentgroup\": \"True\", \"hovertemplate\": \"main_genre=%{x}<br>release_year_interval=1970<br>count=%{y}<extra></extra>\", \"ids\": [\"ALBUM ROCK\"], \"legendgroup\": \"ALBUM ROCK\", \"marker\": {\"color\": \"#EF553B\"}, \"name\": \"ALBUM ROCK\", \"offsetgroup\": \"ALBUM ROCK\", \"orientation\": \"v\", \"showlegend\": true, \"textposition\": \"auto\", \"x\": [\"ALBUM ROCK\"], \"xaxis\": \"x\", \"y\": [2283], \"yaxis\": \"y\", \"type\": \"bar\"}, {\"alignmentgroup\": \"True\", \"hovertemplate\": \"main_genre=%{x}<br>release_year_interval=1970<br>count=%{y}<extra></extra>\", \"ids\": [\"CLASSIC ROCK\"], \"legendgroup\": \"CLASSIC ROCK\", \"marker\": {\"color\": \"#ab63fa\"}, \"name\": \"CLASSIC ROCK\", \"offsetgroup\": \"CLASSIC ROCK\", \"orientation\": \"v\", \"showlegend\": true, \"textposition\": \"auto\", \"x\": [\"CLASSIC ROCK\"], \"xaxis\": \"x\", \"y\": [212], \"yaxis\": \"y\", \"type\": \"bar\"}, {\"alignmentgroup\": \"True\", \"hovertemplate\": \"main_genre=%{x}<br>release_year_interval=1970<br>count=%{y}<extra></extra>\", \"ids\": [\"CLASSIC COUNTRY POP\"], \"legendgroup\": \"CLASSIC COUNTRY POP\", \"marker\": {\"color\": \"#FFA15A\"}, \"name\": \"CLASSIC COUNTRY POP\", \"offsetgroup\": \"CLASSIC COUNTRY POP\", \"orientation\": \"v\", \"showlegend\": true, \"textposition\": \"auto\", \"x\": [\"CLASSIC COUNTRY POP\"], \"xaxis\": \"x\", \"y\": [188], \"yaxis\": \"y\", \"type\": \"bar\"}, {\"alignmentgroup\": \"True\", \"hovertemplate\": \"main_genre=%{x}<br>release_year_interval=1970<br>count=%{y}<extra></extra>\", \"ids\": [\"GLAM ROCK\"], \"legendgroup\": \"GLAM ROCK\", \"marker\": {\"color\": \"#19d3f3\"}, \"name\": \"GLAM ROCK\", \"offsetgroup\": \"GLAM ROCK\", \"orientation\": \"v\", \"showlegend\": true, \"textposition\": \"auto\", \"x\": [\"GLAM ROCK\"], \"xaxis\": \"x\", \"y\": [455], \"yaxis\": \"y\", \"type\": \"bar\"}, {\"alignmentgroup\": \"True\", \"hovertemplate\": \"main_genre=%{x}<br>release_year_interval=1970<br>count=%{y}<extra></extra>\", \"ids\": [\"COUNTRY ROCK\"], \"legendgroup\": \"COUNTRY ROCK\", \"marker\": {\"color\": \"#FF6692\"}, \"name\": \"COUNTRY ROCK\", \"offsetgroup\": \"COUNTRY ROCK\", \"orientation\": \"v\", \"showlegend\": true, \"textposition\": \"auto\", \"x\": [\"COUNTRY ROCK\"], \"xaxis\": \"x\", \"y\": [194], \"yaxis\": \"y\", \"type\": \"bar\"}, {\"alignmentgroup\": \"True\", \"hovertemplate\": \"main_genre=%{x}<br>release_year_interval=1970<br>count=%{y}<extra></extra>\", \"ids\": [\"BLUES ROCK\"], \"legendgroup\": \"BLUES ROCK\", \"marker\": {\"color\": \"#B6E880\"}, \"name\": \"BLUES ROCK\", \"offsetgroup\": \"BLUES ROCK\", \"orientation\": \"v\", \"showlegend\": true, \"textposition\": \"auto\", \"x\": [\"BLUES ROCK\"], \"xaxis\": \"x\", \"y\": [104], \"yaxis\": \"y\", \"type\": \"bar\"}], \"name\": \"1970\"}, {\"data\": [{\"alignmentgroup\": \"True\", \"hovertemplate\": \"main_genre=%{x}<br>release_year_interval=1980<br>count=%{y}<extra></extra>\", \"ids\": [\"ADULT STANDARDS\"], \"legendgroup\": \"ADULT STANDARDS\", \"marker\": {\"color\": \"#636efa\"}, \"name\": \"ADULT STANDARDS\", \"offsetgroup\": \"ADULT STANDARDS\", \"orientation\": \"v\", \"showlegend\": true, \"textposition\": \"auto\", \"x\": [\"ADULT STANDARDS\"], \"xaxis\": \"x\", \"y\": [160], \"yaxis\": \"y\", \"type\": \"bar\"}, {\"alignmentgroup\": \"True\", \"hovertemplate\": \"main_genre=%{x}<br>release_year_interval=1980<br>count=%{y}<extra></extra>\", \"ids\": [\"ALBUM ROCK\"], \"legendgroup\": \"ALBUM ROCK\", \"marker\": {\"color\": \"#EF553B\"}, \"name\": \"ALBUM ROCK\", \"offsetgroup\": \"ALBUM ROCK\", \"orientation\": \"v\", \"showlegend\": true, \"textposition\": \"auto\", \"x\": [\"ALBUM ROCK\"], \"xaxis\": \"x\", \"y\": [1605], \"yaxis\": \"y\", \"type\": \"bar\"}, {\"alignmentgroup\": \"True\", \"hovertemplate\": \"main_genre=%{x}<br>release_year_interval=1980<br>count=%{y}<extra></extra>\", \"ids\": [\"CLASSIC ROCK\"], \"legendgroup\": \"CLASSIC ROCK\", \"marker\": {\"color\": \"#ab63fa\"}, \"name\": \"CLASSIC ROCK\", \"offsetgroup\": \"CLASSIC ROCK\", \"orientation\": \"v\", \"showlegend\": true, \"textposition\": \"auto\", \"x\": [\"CLASSIC ROCK\"], \"xaxis\": \"x\", \"y\": [156], \"yaxis\": \"y\", \"type\": \"bar\"}, {\"alignmentgroup\": \"True\", \"hovertemplate\": \"main_genre=%{x}<br>release_year_interval=1980<br>count=%{y}<extra></extra>\", \"ids\": [\"GLAM ROCK\"], \"legendgroup\": \"GLAM ROCK\", \"marker\": {\"color\": \"#19d3f3\"}, \"name\": \"GLAM ROCK\", \"offsetgroup\": \"GLAM ROCK\", \"orientation\": \"v\", \"showlegend\": true, \"textposition\": \"auto\", \"x\": [\"GLAM ROCK\"], \"xaxis\": \"x\", \"y\": [155], \"yaxis\": \"y\", \"type\": \"bar\"}, {\"alignmentgroup\": \"True\", \"hovertemplate\": \"main_genre=%{x}<br>release_year_interval=1980<br>count=%{y}<extra></extra>\", \"ids\": [\"ART ROCK\"], \"legendgroup\": \"ART ROCK\", \"marker\": {\"color\": \"#FF97FF\"}, \"name\": \"ART ROCK\", \"offsetgroup\": \"ART ROCK\", \"orientation\": \"v\", \"showlegend\": true, \"textposition\": \"auto\", \"x\": [\"ART ROCK\"], \"xaxis\": \"x\", \"y\": [124], \"yaxis\": \"y\", \"type\": \"bar\"}, {\"alignmentgroup\": \"True\", \"hovertemplate\": \"main_genre=%{x}<br>release_year_interval=1980<br>count=%{y}<extra></extra>\", \"ids\": [\"HARD ROCK\"], \"legendgroup\": \"HARD ROCK\", \"marker\": {\"color\": \"#FECB52\"}, \"name\": \"HARD ROCK\", \"offsetgroup\": \"HARD ROCK\", \"orientation\": \"v\", \"showlegend\": true, \"textposition\": \"auto\", \"x\": [\"HARD ROCK\"], \"xaxis\": \"x\", \"y\": [128], \"yaxis\": \"y\", \"type\": \"bar\"}, {\"alignmentgroup\": \"True\", \"hovertemplate\": \"main_genre=%{x}<br>release_year_interval=1980<br>count=%{y}<extra></extra>\", \"ids\": [\"MELLOW GOLD\"], \"legendgroup\": \"MELLOW GOLD\", \"marker\": {\"color\": \"#636efa\"}, \"name\": \"MELLOW GOLD\", \"offsetgroup\": \"MELLOW GOLD\", \"orientation\": \"v\", \"showlegend\": true, \"textposition\": \"auto\", \"x\": [\"MELLOW GOLD\"], \"xaxis\": \"x\", \"y\": [102], \"yaxis\": \"y\", \"type\": \"bar\"}, {\"alignmentgroup\": \"True\", \"hovertemplate\": \"main_genre=%{x}<br>release_year_interval=1980<br>count=%{y}<extra></extra>\", \"ids\": [\"ALTERNATIVE ROCK\"], \"legendgroup\": \"ALTERNATIVE ROCK\", \"marker\": {\"color\": \"#EF553B\"}, \"name\": \"ALTERNATIVE ROCK\", \"offsetgroup\": \"ALTERNATIVE ROCK\", \"orientation\": \"v\", \"showlegend\": true, \"textposition\": \"auto\", \"x\": [\"ALTERNATIVE ROCK\"], \"xaxis\": \"x\", \"y\": [157], \"yaxis\": \"y\", \"type\": \"bar\"}, {\"alignmentgroup\": \"True\", \"hovertemplate\": \"main_genre=%{x}<br>release_year_interval=1980<br>count=%{y}<extra></extra>\", \"ids\": [\"IRISH ROCK\"], \"legendgroup\": \"IRISH ROCK\", \"marker\": {\"color\": \"#00cc96\"}, \"name\": \"IRISH ROCK\", \"offsetgroup\": \"IRISH ROCK\", \"orientation\": \"v\", \"showlegend\": true, \"textposition\": \"auto\", \"x\": [\"IRISH ROCK\"], \"xaxis\": \"x\", \"y\": [169], \"yaxis\": \"y\", \"type\": \"bar\"}, {\"alignmentgroup\": \"True\", \"hovertemplate\": \"main_genre=%{x}<br>release_year_interval=1980<br>count=%{y}<extra></extra>\", \"ids\": [\"DANCE ROCK\"], \"legendgroup\": \"DANCE ROCK\", \"marker\": {\"color\": \"#ab63fa\"}, \"name\": \"DANCE ROCK\", \"offsetgroup\": \"DANCE ROCK\", \"orientation\": \"v\", \"showlegend\": true, \"textposition\": \"auto\", \"x\": [\"DANCE ROCK\"], \"xaxis\": \"x\", \"y\": [353], \"yaxis\": \"y\", \"type\": \"bar\"}], \"name\": \"1980\"}, {\"data\": [{\"alignmentgroup\": \"True\", \"hovertemplate\": \"main_genre=%{x}<br>release_year_interval=1990<br>count=%{y}<extra></extra>\", \"ids\": [\"ALBUM ROCK\"], \"legendgroup\": \"ALBUM ROCK\", \"marker\": {\"color\": \"#EF553B\"}, \"name\": \"ALBUM ROCK\", \"offsetgroup\": \"ALBUM ROCK\", \"orientation\": \"v\", \"showlegend\": true, \"textposition\": \"auto\", \"x\": [\"ALBUM ROCK\"], \"xaxis\": \"x\", \"y\": [342], \"yaxis\": \"y\", \"type\": \"bar\"}, {\"alignmentgroup\": \"True\", \"hovertemplate\": \"main_genre=%{x}<br>release_year_interval=1990<br>count=%{y}<extra></extra>\", \"ids\": [\"COUNTRY ROCK\"], \"legendgroup\": \"COUNTRY ROCK\", \"marker\": {\"color\": \"#FF6692\"}, \"name\": \"COUNTRY ROCK\", \"offsetgroup\": \"COUNTRY ROCK\", \"orientation\": \"v\", \"showlegend\": true, \"textposition\": \"auto\", \"x\": [\"COUNTRY ROCK\"], \"xaxis\": \"x\", \"y\": [103], \"yaxis\": \"y\", \"type\": \"bar\"}, {\"alignmentgroup\": \"True\", \"hovertemplate\": \"main_genre=%{x}<br>release_year_interval=1990<br>count=%{y}<extra></extra>\", \"ids\": [\"ALTERNATIVE ROCK\"], \"legendgroup\": \"ALTERNATIVE ROCK\", \"marker\": {\"color\": \"#EF553B\"}, \"name\": \"ALTERNATIVE ROCK\", \"offsetgroup\": \"ALTERNATIVE ROCK\", \"orientation\": \"v\", \"showlegend\": true, \"textposition\": \"auto\", \"x\": [\"ALTERNATIVE ROCK\"], \"xaxis\": \"x\", \"y\": [334], \"yaxis\": \"y\", \"type\": \"bar\"}, {\"alignmentgroup\": \"True\", \"hovertemplate\": \"main_genre=%{x}<br>release_year_interval=1990<br>count=%{y}<extra></extra>\", \"ids\": [\"PERMANENT WAVE\"], \"legendgroup\": \"PERMANENT WAVE\", \"marker\": {\"color\": \"#FFA15A\"}, \"name\": \"PERMANENT WAVE\", \"offsetgroup\": \"PERMANENT WAVE\", \"orientation\": \"v\", \"showlegend\": true, \"textposition\": \"auto\", \"x\": [\"PERMANENT WAVE\"], \"xaxis\": \"x\", \"y\": [102], \"yaxis\": \"y\", \"type\": \"bar\"}, {\"alignmentgroup\": \"True\", \"hovertemplate\": \"main_genre=%{x}<br>release_year_interval=1990<br>count=%{y}<extra></extra>\", \"ids\": [\"BANDA\"], \"legendgroup\": \"BANDA\", \"marker\": {\"color\": \"#19d3f3\"}, \"name\": \"BANDA\", \"offsetgroup\": \"BANDA\", \"orientation\": \"v\", \"showlegend\": true, \"textposition\": \"auto\", \"x\": [\"BANDA\"], \"xaxis\": \"x\", \"y\": [124], \"yaxis\": \"y\", \"type\": \"bar\"}, {\"alignmentgroup\": \"True\", \"hovertemplate\": \"main_genre=%{x}<br>release_year_interval=1990<br>count=%{y}<extra></extra>\", \"ids\": [\"CONTEMPORARY COUNTRY\"], \"legendgroup\": \"CONTEMPORARY COUNTRY\", \"marker\": {\"color\": \"#FF6692\"}, \"name\": \"CONTEMPORARY COUNTRY\", \"offsetgroup\": \"CONTEMPORARY COUNTRY\", \"orientation\": \"v\", \"showlegend\": true, \"textposition\": \"auto\", \"x\": [\"CONTEMPORARY COUNTRY\"], \"xaxis\": \"x\", \"y\": [176], \"yaxis\": \"y\", \"type\": \"bar\"}, {\"alignmentgroup\": \"True\", \"hovertemplate\": \"main_genre=%{x}<br>release_year_interval=1990<br>count=%{y}<extra></extra>\", \"ids\": [\"EAST COAST HIP HOP\"], \"legendgroup\": \"EAST COAST HIP HOP\", \"marker\": {\"color\": \"#B6E880\"}, \"name\": \"EAST COAST HIP HOP\", \"offsetgroup\": \"EAST COAST HIP HOP\", \"orientation\": \"v\", \"showlegend\": true, \"textposition\": \"auto\", \"x\": [\"EAST COAST HIP HOP\"], \"xaxis\": \"x\", \"y\": [98], \"yaxis\": \"y\", \"type\": \"bar\"}, {\"alignmentgroup\": \"True\", \"hovertemplate\": \"main_genre=%{x}<br>release_year_interval=1990<br>count=%{y}<extra></extra>\", \"ids\": [\"ALTERNATIVE METAL\"], \"legendgroup\": \"ALTERNATIVE METAL\", \"marker\": {\"color\": \"#FF97FF\"}, \"name\": \"ALTERNATIVE METAL\", \"offsetgroup\": \"ALTERNATIVE METAL\", \"orientation\": \"v\", \"showlegend\": true, \"textposition\": \"auto\", \"x\": [\"ALTERNATIVE METAL\"], \"xaxis\": \"x\", \"y\": [658], \"yaxis\": \"y\", \"type\": \"bar\"}, {\"alignmentgroup\": \"True\", \"hovertemplate\": \"main_genre=%{x}<br>release_year_interval=1990<br>count=%{y}<extra></extra>\", \"ids\": [\"DANCE POP\"], \"legendgroup\": \"DANCE POP\", \"marker\": {\"color\": \"#FECB52\"}, \"name\": \"DANCE POP\", \"offsetgroup\": \"DANCE POP\", \"orientation\": \"v\", \"showlegend\": true, \"textposition\": \"auto\", \"x\": [\"DANCE POP\"], \"xaxis\": \"x\", \"y\": [284], \"yaxis\": \"y\", \"type\": \"bar\"}], \"name\": \"1990\"}, {\"data\": [{\"alignmentgroup\": \"True\", \"hovertemplate\": \"main_genre=%{x}<br>release_year_interval=2000<br>count=%{y}<extra></extra>\", \"ids\": [\"ADULT STANDARDS\"], \"legendgroup\": \"ADULT STANDARDS\", \"marker\": {\"color\": \"#636efa\"}, \"name\": \"ADULT STANDARDS\", \"offsetgroup\": \"ADULT STANDARDS\", \"orientation\": \"v\", \"showlegend\": true, \"textposition\": \"auto\", \"x\": [\"ADULT STANDARDS\"], \"xaxis\": \"x\", \"y\": [126], \"yaxis\": \"y\", \"type\": \"bar\"}, {\"alignmentgroup\": \"True\", \"hovertemplate\": \"main_genre=%{x}<br>release_year_interval=2000<br>count=%{y}<extra></extra>\", \"ids\": [\"ALBUM ROCK\"], \"legendgroup\": \"ALBUM ROCK\", \"marker\": {\"color\": \"#EF553B\"}, \"name\": \"ALBUM ROCK\", \"offsetgroup\": \"ALBUM ROCK\", \"orientation\": \"v\", \"showlegend\": true, \"textposition\": \"auto\", \"x\": [\"ALBUM ROCK\"], \"xaxis\": \"x\", \"y\": [195], \"yaxis\": \"y\", \"type\": \"bar\"}, {\"alignmentgroup\": \"True\", \"hovertemplate\": \"main_genre=%{x}<br>release_year_interval=2000<br>count=%{y}<extra></extra>\", \"ids\": [\"ALTERNATIVE ROCK\"], \"legendgroup\": \"ALTERNATIVE ROCK\", \"marker\": {\"color\": \"#EF553B\"}, \"name\": \"ALTERNATIVE ROCK\", \"offsetgroup\": \"ALTERNATIVE ROCK\", \"orientation\": \"v\", \"showlegend\": true, \"textposition\": \"auto\", \"x\": [\"ALTERNATIVE ROCK\"], \"xaxis\": \"x\", \"y\": [284], \"yaxis\": \"y\", \"type\": \"bar\"}, {\"alignmentgroup\": \"True\", \"hovertemplate\": \"main_genre=%{x}<br>release_year_interval=2000<br>count=%{y}<extra></extra>\", \"ids\": [\"PERMANENT WAVE\"], \"legendgroup\": \"PERMANENT WAVE\", \"marker\": {\"color\": \"#FFA15A\"}, \"name\": \"PERMANENT WAVE\", \"offsetgroup\": \"PERMANENT WAVE\", \"orientation\": \"v\", \"showlegend\": true, \"textposition\": \"auto\", \"x\": [\"PERMANENT WAVE\"], \"xaxis\": \"x\", \"y\": [103], \"yaxis\": \"y\", \"type\": \"bar\"}, {\"alignmentgroup\": \"True\", \"hovertemplate\": \"main_genre=%{x}<br>release_year_interval=2000<br>count=%{y}<extra></extra>\", \"ids\": [\"CONTEMPORARY COUNTRY\"], \"legendgroup\": \"CONTEMPORARY COUNTRY\", \"marker\": {\"color\": \"#FF6692\"}, \"name\": \"CONTEMPORARY COUNTRY\", \"offsetgroup\": \"CONTEMPORARY COUNTRY\", \"orientation\": \"v\", \"showlegend\": true, \"textposition\": \"auto\", \"x\": [\"CONTEMPORARY COUNTRY\"], \"xaxis\": \"x\", \"y\": [343], \"yaxis\": \"y\", \"type\": \"bar\"}, {\"alignmentgroup\": \"True\", \"hovertemplate\": \"main_genre=%{x}<br>release_year_interval=2000<br>count=%{y}<extra></extra>\", \"ids\": [\"EAST COAST HIP HOP\"], \"legendgroup\": \"EAST COAST HIP HOP\", \"marker\": {\"color\": \"#B6E880\"}, \"name\": \"EAST COAST HIP HOP\", \"offsetgroup\": \"EAST COAST HIP HOP\", \"orientation\": \"v\", \"showlegend\": true, \"textposition\": \"auto\", \"x\": [\"EAST COAST HIP HOP\"], \"xaxis\": \"x\", \"y\": [113], \"yaxis\": \"y\", \"type\": \"bar\"}, {\"alignmentgroup\": \"True\", \"hovertemplate\": \"main_genre=%{x}<br>release_year_interval=2000<br>count=%{y}<extra></extra>\", \"ids\": [\"ALTERNATIVE METAL\"], \"legendgroup\": \"ALTERNATIVE METAL\", \"marker\": {\"color\": \"#FF97FF\"}, \"name\": \"ALTERNATIVE METAL\", \"offsetgroup\": \"ALTERNATIVE METAL\", \"orientation\": \"v\", \"showlegend\": true, \"textposition\": \"auto\", \"x\": [\"ALTERNATIVE METAL\"], \"xaxis\": \"x\", \"y\": [956], \"yaxis\": \"y\", \"type\": \"bar\"}, {\"alignmentgroup\": \"True\", \"hovertemplate\": \"main_genre=%{x}<br>release_year_interval=2000<br>count=%{y}<extra></extra>\", \"ids\": [\"DANCE POP\"], \"legendgroup\": \"DANCE POP\", \"marker\": {\"color\": \"#FECB52\"}, \"name\": \"DANCE POP\", \"offsetgroup\": \"DANCE POP\", \"orientation\": \"v\", \"showlegend\": true, \"textposition\": \"auto\", \"x\": [\"DANCE POP\"], \"xaxis\": \"x\", \"y\": [462], \"yaxis\": \"y\", \"type\": \"bar\"}, {\"alignmentgroup\": \"True\", \"hovertemplate\": \"main_genre=%{x}<br>release_year_interval=2000<br>count=%{y}<extra></extra>\", \"ids\": [\"ACOUSTIC POP\"], \"legendgroup\": \"ACOUSTIC POP\", \"marker\": {\"color\": \"#636efa\"}, \"name\": \"ACOUSTIC POP\", \"offsetgroup\": \"ACOUSTIC POP\", \"orientation\": \"v\", \"showlegend\": true, \"textposition\": \"auto\", \"x\": [\"ACOUSTIC POP\"], \"xaxis\": \"x\", \"y\": [100], \"yaxis\": \"y\", \"type\": \"bar\"}, {\"alignmentgroup\": \"True\", \"hovertemplate\": \"main_genre=%{x}<br>release_year_interval=2000<br>count=%{y}<extra></extra>\", \"ids\": [\"HIP HOP\"], \"legendgroup\": \"HIP HOP\", \"marker\": {\"color\": \"#EF553B\"}, \"name\": \"HIP HOP\", \"offsetgroup\": \"HIP HOP\", \"orientation\": \"v\", \"showlegend\": true, \"textposition\": \"auto\", \"x\": [\"HIP HOP\"], \"xaxis\": \"x\", \"y\": [102], \"yaxis\": \"y\", \"type\": \"bar\"}, {\"alignmentgroup\": \"True\", \"hovertemplate\": \"main_genre=%{x}<br>release_year_interval=2000<br>count=%{y}<extra></extra>\", \"ids\": [\"EMO\"], \"legendgroup\": \"EMO\", \"marker\": {\"color\": \"#00cc96\"}, \"name\": \"EMO\", \"offsetgroup\": \"EMO\", \"orientation\": \"v\", \"showlegend\": true, \"textposition\": \"auto\", \"x\": [\"EMO\"], \"xaxis\": \"x\", \"y\": [129], \"yaxis\": \"y\", \"type\": \"bar\"}, {\"alignmentgroup\": \"True\", \"hovertemplate\": \"main_genre=%{x}<br>release_year_interval=2000<br>count=%{y}<extra></extra>\", \"ids\": [\"MODERN ROCK\"], \"legendgroup\": \"MODERN ROCK\", \"marker\": {\"color\": \"#ab63fa\"}, \"name\": \"MODERN ROCK\", \"offsetgroup\": \"MODERN ROCK\", \"orientation\": \"v\", \"showlegend\": true, \"textposition\": \"auto\", \"x\": [\"MODERN ROCK\"], \"xaxis\": \"x\", \"y\": [159], \"yaxis\": \"y\", \"type\": \"bar\"}, {\"alignmentgroup\": \"True\", \"hovertemplate\": \"main_genre=%{x}<br>release_year_interval=2000<br>count=%{y}<extra></extra>\", \"ids\": [\"NEO MELLOW\"], \"legendgroup\": \"NEO MELLOW\", \"marker\": {\"color\": \"#FFA15A\"}, \"name\": \"NEO MELLOW\", \"offsetgroup\": \"NEO MELLOW\", \"orientation\": \"v\", \"showlegend\": true, \"textposition\": \"auto\", \"x\": [\"NEO MELLOW\"], \"xaxis\": \"x\", \"y\": [181], \"yaxis\": \"y\", \"type\": \"bar\"}, {\"alignmentgroup\": \"True\", \"hovertemplate\": \"main_genre=%{x}<br>release_year_interval=2000<br>count=%{y}<extra></extra>\", \"ids\": [\"CCM\"], \"legendgroup\": \"CCM\", \"marker\": {\"color\": \"#19d3f3\"}, \"name\": \"CCM\", \"offsetgroup\": \"CCM\", \"orientation\": \"v\", \"showlegend\": true, \"textposition\": \"auto\", \"x\": [\"CCM\"], \"xaxis\": \"x\", \"y\": [99], \"yaxis\": \"y\", \"type\": \"bar\"}], \"name\": \"2000\"}, {\"data\": [{\"alignmentgroup\": \"True\", \"hovertemplate\": \"main_genre=%{x}<br>release_year_interval=2010<br>count=%{y}<extra></extra>\", \"ids\": [\"CONTEMPORARY COUNTRY\"], \"legendgroup\": \"CONTEMPORARY COUNTRY\", \"marker\": {\"color\": \"#FF6692\"}, \"name\": \"CONTEMPORARY COUNTRY\", \"offsetgroup\": \"CONTEMPORARY COUNTRY\", \"orientation\": \"v\", \"showlegend\": true, \"textposition\": \"auto\", \"x\": [\"CONTEMPORARY COUNTRY\"], \"xaxis\": \"x\", \"y\": [733], \"yaxis\": \"y\", \"type\": \"bar\"}, {\"alignmentgroup\": \"True\", \"hovertemplate\": \"main_genre=%{x}<br>release_year_interval=2010<br>count=%{y}<extra></extra>\", \"ids\": [\"ALTERNATIVE METAL\"], \"legendgroup\": \"ALTERNATIVE METAL\", \"marker\": {\"color\": \"#FF97FF\"}, \"name\": \"ALTERNATIVE METAL\", \"offsetgroup\": \"ALTERNATIVE METAL\", \"orientation\": \"v\", \"showlegend\": true, \"textposition\": \"auto\", \"x\": [\"ALTERNATIVE METAL\"], \"xaxis\": \"x\", \"y\": [315], \"yaxis\": \"y\", \"type\": \"bar\"}, {\"alignmentgroup\": \"True\", \"hovertemplate\": \"main_genre=%{x}<br>release_year_interval=2010<br>count=%{y}<extra></extra>\", \"ids\": [\"DANCE POP\"], \"legendgroup\": \"DANCE POP\", \"marker\": {\"color\": \"#FECB52\"}, \"name\": \"DANCE POP\", \"offsetgroup\": \"DANCE POP\", \"orientation\": \"v\", \"showlegend\": true, \"textposition\": \"auto\", \"x\": [\"DANCE POP\"], \"xaxis\": \"x\", \"y\": [902], \"yaxis\": \"y\", \"type\": \"bar\"}, {\"alignmentgroup\": \"True\", \"hovertemplate\": \"main_genre=%{x}<br>release_year_interval=2010<br>count=%{y}<extra></extra>\", \"ids\": [\"HIP HOP\"], \"legendgroup\": \"HIP HOP\", \"marker\": {\"color\": \"#EF553B\"}, \"name\": \"HIP HOP\", \"offsetgroup\": \"HIP HOP\", \"orientation\": \"v\", \"showlegend\": true, \"textposition\": \"auto\", \"x\": [\"HIP HOP\"], \"xaxis\": \"x\", \"y\": [496], \"yaxis\": \"y\", \"type\": \"bar\"}, {\"alignmentgroup\": \"True\", \"hovertemplate\": \"main_genre=%{x}<br>release_year_interval=2010<br>count=%{y}<extra></extra>\", \"ids\": [\"MODERN ROCK\"], \"legendgroup\": \"MODERN ROCK\", \"marker\": {\"color\": \"#ab63fa\"}, \"name\": \"MODERN ROCK\", \"offsetgroup\": \"MODERN ROCK\", \"orientation\": \"v\", \"showlegend\": true, \"textposition\": \"auto\", \"x\": [\"MODERN ROCK\"], \"xaxis\": \"x\", \"y\": [211], \"yaxis\": \"y\", \"type\": \"bar\"}, {\"alignmentgroup\": \"True\", \"hovertemplate\": \"main_genre=%{x}<br>release_year_interval=2010<br>count=%{y}<extra></extra>\", \"ids\": [\"CCM\"], \"legendgroup\": \"CCM\", \"marker\": {\"color\": \"#19d3f3\"}, \"name\": \"CCM\", \"offsetgroup\": \"CCM\", \"orientation\": \"v\", \"showlegend\": true, \"textposition\": \"auto\", \"x\": [\"CCM\"], \"xaxis\": \"x\", \"y\": [120], \"yaxis\": \"y\", \"type\": \"bar\"}, {\"alignmentgroup\": \"True\", \"hovertemplate\": \"main_genre=%{x}<br>release_year_interval=2010<br>count=%{y}<extra></extra>\", \"ids\": [\"LATIN\"], \"legendgroup\": \"LATIN\", \"marker\": {\"color\": \"#FF6692\"}, \"name\": \"LATIN\", \"offsetgroup\": \"LATIN\", \"orientation\": \"v\", \"showlegend\": true, \"textposition\": \"auto\", \"x\": [\"LATIN\"], \"xaxis\": \"x\", \"y\": [144], \"yaxis\": \"y\", \"type\": \"bar\"}, {\"alignmentgroup\": \"True\", \"hovertemplate\": \"main_genre=%{x}<br>release_year_interval=2010<br>count=%{y}<extra></extra>\", \"ids\": [\"POP\"], \"legendgroup\": \"POP\", \"marker\": {\"color\": \"#B6E880\"}, \"name\": \"POP\", \"offsetgroup\": \"POP\", \"orientation\": \"v\", \"showlegend\": true, \"textposition\": \"auto\", \"x\": [\"POP\"], \"xaxis\": \"x\", \"y\": [187], \"yaxis\": \"y\", \"type\": \"bar\"}, {\"alignmentgroup\": \"True\", \"hovertemplate\": \"main_genre=%{x}<br>release_year_interval=2010<br>count=%{y}<extra></extra>\", \"ids\": [\"CANADIAN HIP HOP\"], \"legendgroup\": \"CANADIAN HIP HOP\", \"marker\": {\"color\": \"#FF97FF\"}, \"name\": \"CANADIAN HIP HOP\", \"offsetgroup\": \"CANADIAN HIP HOP\", \"orientation\": \"v\", \"showlegend\": true, \"textposition\": \"auto\", \"x\": [\"CANADIAN HIP HOP\"], \"xaxis\": \"x\", \"y\": [187], \"yaxis\": \"y\", \"type\": \"bar\"}, {\"alignmentgroup\": \"True\", \"hovertemplate\": \"main_genre=%{x}<br>release_year_interval=2010<br>count=%{y}<extra></extra>\", \"ids\": [\"FOLK-POP\"], \"legendgroup\": \"FOLK-POP\", \"marker\": {\"color\": \"#FECB52\"}, \"name\": \"FOLK-POP\", \"offsetgroup\": \"FOLK-POP\", \"orientation\": \"v\", \"showlegend\": true, \"textposition\": \"auto\", \"x\": [\"FOLK-POP\"], \"xaxis\": \"x\", \"y\": [106], \"yaxis\": \"y\", \"type\": \"bar\"}, {\"alignmentgroup\": \"True\", \"hovertemplate\": \"main_genre=%{x}<br>release_year_interval=2010<br>count=%{y}<extra></extra>\", \"ids\": [\"CANADIAN CONTEMPORARY R&B\"], \"legendgroup\": \"CANADIAN CONTEMPORARY R&B\", \"marker\": {\"color\": \"#636efa\"}, \"name\": \"CANADIAN CONTEMPORARY R&B\", \"offsetgroup\": \"CANADIAN CONTEMPORARY R&B\", \"orientation\": \"v\", \"showlegend\": true, \"textposition\": \"auto\", \"x\": [\"CANADIAN CONTEMPORARY R&B\"], \"xaxis\": \"x\", \"y\": [106], \"yaxis\": \"y\", \"type\": \"bar\"}, {\"alignmentgroup\": \"True\", \"hovertemplate\": \"main_genre=%{x}<br>release_year_interval=2010<br>count=%{y}<extra></extra>\", \"ids\": [\"CHICAGO RAP\"], \"legendgroup\": \"CHICAGO RAP\", \"marker\": {\"color\": \"#EF553B\"}, \"name\": \"CHICAGO RAP\", \"offsetgroup\": \"CHICAGO RAP\", \"orientation\": \"v\", \"showlegend\": true, \"textposition\": \"auto\", \"x\": [\"CHICAGO RAP\"], \"xaxis\": \"x\", \"y\": [110], \"yaxis\": \"y\", \"type\": \"bar\"}, {\"alignmentgroup\": \"True\", \"hovertemplate\": \"main_genre=%{x}<br>release_year_interval=2010<br>count=%{y}<extra></extra>\", \"ids\": [\"K-POP\"], \"legendgroup\": \"K-POP\", \"marker\": {\"color\": \"#00cc96\"}, \"name\": \"K-POP\", \"offsetgroup\": \"K-POP\", \"orientation\": \"v\", \"showlegend\": true, \"textposition\": \"auto\", \"x\": [\"K-POP\"], \"xaxis\": \"x\", \"y\": [112], \"yaxis\": \"y\", \"type\": \"bar\"}, {\"alignmentgroup\": \"True\", \"hovertemplate\": \"main_genre=%{x}<br>release_year_interval=2010<br>count=%{y}<extra></extra>\", \"ids\": [\"CONSCIOUS HIP HOP\"], \"legendgroup\": \"CONSCIOUS HIP HOP\", \"marker\": {\"color\": \"#ab63fa\"}, \"name\": \"CONSCIOUS HIP HOP\", \"offsetgroup\": \"CONSCIOUS HIP HOP\", \"orientation\": \"v\", \"showlegend\": true, \"textposition\": \"auto\", \"x\": [\"CONSCIOUS HIP HOP\"], \"xaxis\": \"x\", \"y\": [235], \"yaxis\": \"y\", \"type\": \"bar\"}, {\"alignmentgroup\": \"True\", \"hovertemplate\": \"main_genre=%{x}<br>release_year_interval=2010<br>count=%{y}<extra></extra>\", \"ids\": [\"ATL HIP HOP\"], \"legendgroup\": \"ATL HIP HOP\", \"marker\": {\"color\": \"#FFA15A\"}, \"name\": \"ATL HIP HOP\", \"offsetgroup\": \"ATL HIP HOP\", \"orientation\": \"v\", \"showlegend\": true, \"textposition\": \"auto\", \"x\": [\"ATL HIP HOP\"], \"xaxis\": \"x\", \"y\": [158], \"yaxis\": \"y\", \"type\": \"bar\"}, {\"alignmentgroup\": \"True\", \"hovertemplate\": \"main_genre=%{x}<br>release_year_interval=2010<br>count=%{y}<extra></extra>\", \"ids\": [\"INDIE POP\"], \"legendgroup\": \"INDIE POP\", \"marker\": {\"color\": \"#19d3f3\"}, \"name\": \"INDIE POP\", \"offsetgroup\": \"INDIE POP\", \"orientation\": \"v\", \"showlegend\": true, \"textposition\": \"auto\", \"x\": [\"INDIE POP\"], \"xaxis\": \"x\", \"y\": [136], \"yaxis\": \"y\", \"type\": \"bar\"}, {\"alignmentgroup\": \"True\", \"hovertemplate\": \"main_genre=%{x}<br>release_year_interval=2010<br>count=%{y}<extra></extra>\", \"ids\": [\"ART POP\"], \"legendgroup\": \"ART POP\", \"marker\": {\"color\": \"#FF6692\"}, \"name\": \"ART POP\", \"offsetgroup\": \"ART POP\", \"orientation\": \"v\", \"showlegend\": true, \"textposition\": \"auto\", \"x\": [\"ART POP\"], \"xaxis\": \"x\", \"y\": [190], \"yaxis\": \"y\", \"type\": \"bar\"}], \"name\": \"2010\"}]);\n",
       "                        }).then(function(){\n",
       "                            \n",
       "var gd = document.getElementById('fffb4c50-161a-4587-a4e6-b53c7cf42db9');\n",
       "var x = new MutationObserver(function (mutations, observer) {{\n",
       "        var display = window.getComputedStyle(gd).display;\n",
       "        if (!display || display === 'none') {{\n",
       "            console.log([gd, 'removed!']);\n",
       "            Plotly.purge(gd);\n",
       "            observer.disconnect();\n",
       "        }}\n",
       "}});\n",
       "\n",
       "// Listen for the removal of the full notebook cells\n",
       "var notebookContainer = gd.closest('#notebook-container');\n",
       "if (notebookContainer) {{\n",
       "    x.observe(notebookContainer, {childList: true});\n",
       "}}\n",
       "\n",
       "// Listen for the clearing of the current output cell\n",
       "var outputEl = gd.closest('.output');\n",
       "if (outputEl) {{\n",
       "    x.observe(outputEl, {childList: true});\n",
       "}}\n",
       "\n",
       "                        })                };                });            </script>        </div>"
      ]
     },
     "metadata": {},
     "output_type": "display_data"
    }
   ],
   "source": [
    "import plotly.graph_objects as go\n",
    "import plotly.express as px\n",
    "\n",
    "\n",
    "fig = px.bar(year2, x=\"main_genre\", y=\"count\", color=\"main_genre\",\n",
    "             #animation_frame='release_year_interval', animation_group=\"main_genre\",\n",
    "             #category_orders={'release_year_interval': (1960, 1970, 1980, 1990, 2000, 2010)},\n",
    "             \n",
    "             range_y=[0,2700])\n",
    "fig.show()\n"
   ]
  },
  {
   "cell_type": "code",
   "execution_count": null,
   "metadata": {},
   "outputs": [],
   "source": []
  }
 ],
 "metadata": {
  "kernelspec": {
   "display_name": "Python 3",
   "language": "python",
   "name": "python3"
  },
  "language_info": {
   "codemirror_mode": {
    "name": "ipython",
    "version": 3
   },
   "file_extension": ".py",
   "mimetype": "text/x-python",
   "name": "python",
   "nbconvert_exporter": "python",
   "pygments_lexer": "ipython3",
   "version": "3.7.6"
  }
 },
 "nbformat": 4,
 "nbformat_minor": 4
}
